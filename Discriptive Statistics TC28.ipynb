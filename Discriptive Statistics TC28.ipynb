{
 "cells": [
  {
   "cell_type": "raw",
   "id": "60472438",
   "metadata": {},
   "source": [
    "Name     Meenu Pillai \n",
    "Roll No. TC28\n",
    "Descriptive statistics"
   ]
  },
  {
   "cell_type": "markdown",
   "id": "ad593c06",
   "metadata": {},
   "source": [
    "Q1. Perform the following operations on Age-Income dataset (Age-\n",
    "Income-Dataset.csv)\n",
    "\n",
    "Provide summary statistics (mean, median, minimum, maximum,standard deviation) for numeric variables with and without using\n",
    "any library functions.\n",
    "Provide summary statistics of income grouped by the age groups.\n",
    "Create a list that contains a numeric value for each response to the categorical variable."
   ]
  },
  {
   "cell_type": "code",
   "execution_count": 1,
   "id": "c92b8559",
   "metadata": {},
   "outputs": [],
   "source": [
    "import math\n",
    "import statistics\n",
    "import numpy as np\n",
    "import scipy.stats\n",
    "import pandas as pd"
   ]
  },
  {
   "cell_type": "code",
   "execution_count": 2,
   "id": "8a103c7c",
   "metadata": {},
   "outputs": [],
   "source": [
    "df=pd.read_csv(\"Age-Income-Dataset.csv\")"
   ]
  },
  {
   "cell_type": "code",
   "execution_count": 3,
   "id": "9ccd102e",
   "metadata": {},
   "outputs": [
    {
     "data": {
      "text/html": [
       "<div>\n",
       "<style scoped>\n",
       "    .dataframe tbody tr th:only-of-type {\n",
       "        vertical-align: middle;\n",
       "    }\n",
       "\n",
       "    .dataframe tbody tr th {\n",
       "        vertical-align: top;\n",
       "    }\n",
       "\n",
       "    .dataframe thead th {\n",
       "        text-align: right;\n",
       "    }\n",
       "</style>\n",
       "<table border=\"1\" class=\"dataframe\">\n",
       "  <thead>\n",
       "    <tr style=\"text-align: right;\">\n",
       "      <th></th>\n",
       "      <th>Age</th>\n",
       "      <th>Income</th>\n",
       "    </tr>\n",
       "  </thead>\n",
       "  <tbody>\n",
       "    <tr>\n",
       "      <th>0</th>\n",
       "      <td>Young</td>\n",
       "      <td>25000</td>\n",
       "    </tr>\n",
       "    <tr>\n",
       "      <th>1</th>\n",
       "      <td>Middle Age</td>\n",
       "      <td>54000</td>\n",
       "    </tr>\n",
       "    <tr>\n",
       "      <th>2</th>\n",
       "      <td>Old</td>\n",
       "      <td>60000</td>\n",
       "    </tr>\n",
       "    <tr>\n",
       "      <th>3</th>\n",
       "      <td>Young</td>\n",
       "      <td>15000</td>\n",
       "    </tr>\n",
       "    <tr>\n",
       "      <th>4</th>\n",
       "      <td>Young</td>\n",
       "      <td>45000</td>\n",
       "    </tr>\n",
       "    <tr>\n",
       "      <th>5</th>\n",
       "      <td>Young</td>\n",
       "      <td>65000</td>\n",
       "    </tr>\n",
       "    <tr>\n",
       "      <th>6</th>\n",
       "      <td>Young</td>\n",
       "      <td>70000</td>\n",
       "    </tr>\n",
       "    <tr>\n",
       "      <th>7</th>\n",
       "      <td>Young</td>\n",
       "      <td>30000</td>\n",
       "    </tr>\n",
       "    <tr>\n",
       "      <th>8</th>\n",
       "      <td>Middle Age</td>\n",
       "      <td>27000</td>\n",
       "    </tr>\n",
       "    <tr>\n",
       "      <th>9</th>\n",
       "      <td>Young</td>\n",
       "      <td>23000</td>\n",
       "    </tr>\n",
       "    <tr>\n",
       "      <th>10</th>\n",
       "      <td>Young</td>\n",
       "      <td>48000</td>\n",
       "    </tr>\n",
       "    <tr>\n",
       "      <th>11</th>\n",
       "      <td>Old</td>\n",
       "      <td>52000</td>\n",
       "    </tr>\n",
       "    <tr>\n",
       "      <th>12</th>\n",
       "      <td>Young</td>\n",
       "      <td>33000</td>\n",
       "    </tr>\n",
       "    <tr>\n",
       "      <th>13</th>\n",
       "      <td>Old</td>\n",
       "      <td>80000</td>\n",
       "    </tr>\n",
       "    <tr>\n",
       "      <th>14</th>\n",
       "      <td>Old</td>\n",
       "      <td>75000</td>\n",
       "    </tr>\n",
       "    <tr>\n",
       "      <th>15</th>\n",
       "      <td>Old</td>\n",
       "      <td>35000</td>\n",
       "    </tr>\n",
       "    <tr>\n",
       "      <th>16</th>\n",
       "      <td>Middle Age</td>\n",
       "      <td>29000</td>\n",
       "    </tr>\n",
       "    <tr>\n",
       "      <th>17</th>\n",
       "      <td>Middle Age</td>\n",
       "      <td>57000</td>\n",
       "    </tr>\n",
       "    <tr>\n",
       "      <th>18</th>\n",
       "      <td>Old</td>\n",
       "      <td>43000</td>\n",
       "    </tr>\n",
       "    <tr>\n",
       "      <th>19</th>\n",
       "      <td>Middle Age</td>\n",
       "      <td>56000</td>\n",
       "    </tr>\n",
       "    <tr>\n",
       "      <th>20</th>\n",
       "      <td>Old</td>\n",
       "      <td>63000</td>\n",
       "    </tr>\n",
       "    <tr>\n",
       "      <th>21</th>\n",
       "      <td>Old</td>\n",
       "      <td>32000</td>\n",
       "    </tr>\n",
       "    <tr>\n",
       "      <th>22</th>\n",
       "      <td>Old</td>\n",
       "      <td>45000</td>\n",
       "    </tr>\n",
       "    <tr>\n",
       "      <th>23</th>\n",
       "      <td>Old</td>\n",
       "      <td>89000</td>\n",
       "    </tr>\n",
       "    <tr>\n",
       "      <th>24</th>\n",
       "      <td>Middle Age</td>\n",
       "      <td>90000</td>\n",
       "    </tr>\n",
       "    <tr>\n",
       "      <th>25</th>\n",
       "      <td>Middle Age</td>\n",
       "      <td>93000</td>\n",
       "    </tr>\n",
       "    <tr>\n",
       "      <th>26</th>\n",
       "      <td>Young</td>\n",
       "      <td>80000</td>\n",
       "    </tr>\n",
       "    <tr>\n",
       "      <th>27</th>\n",
       "      <td>Young</td>\n",
       "      <td>87000</td>\n",
       "    </tr>\n",
       "    <tr>\n",
       "      <th>28</th>\n",
       "      <td>Young</td>\n",
       "      <td>38000</td>\n",
       "    </tr>\n",
       "    <tr>\n",
       "      <th>29</th>\n",
       "      <td>Young</td>\n",
       "      <td>23000</td>\n",
       "    </tr>\n",
       "    <tr>\n",
       "      <th>30</th>\n",
       "      <td>Middle Age</td>\n",
       "      <td>38900</td>\n",
       "    </tr>\n",
       "    <tr>\n",
       "      <th>31</th>\n",
       "      <td>Middle Age</td>\n",
       "      <td>53200</td>\n",
       "    </tr>\n",
       "    <tr>\n",
       "      <th>32</th>\n",
       "      <td>Old</td>\n",
       "      <td>43800</td>\n",
       "    </tr>\n",
       "    <tr>\n",
       "      <th>33</th>\n",
       "      <td>Middle Age</td>\n",
       "      <td>25600</td>\n",
       "    </tr>\n",
       "    <tr>\n",
       "      <th>34</th>\n",
       "      <td>Middle Age</td>\n",
       "      <td>65400</td>\n",
       "    </tr>\n",
       "    <tr>\n",
       "      <th>35</th>\n",
       "      <td>Old</td>\n",
       "      <td>76800</td>\n",
       "    </tr>\n",
       "    <tr>\n",
       "      <th>36</th>\n",
       "      <td>Old</td>\n",
       "      <td>89700</td>\n",
       "    </tr>\n",
       "    <tr>\n",
       "      <th>37</th>\n",
       "      <td>Old</td>\n",
       "      <td>41800</td>\n",
       "    </tr>\n",
       "    <tr>\n",
       "      <th>38</th>\n",
       "      <td>Young</td>\n",
       "      <td>31900</td>\n",
       "    </tr>\n",
       "    <tr>\n",
       "      <th>39</th>\n",
       "      <td>Old</td>\n",
       "      <td>25600</td>\n",
       "    </tr>\n",
       "    <tr>\n",
       "      <th>40</th>\n",
       "      <td>Middle Age</td>\n",
       "      <td>45700</td>\n",
       "    </tr>\n",
       "    <tr>\n",
       "      <th>41</th>\n",
       "      <td>Old</td>\n",
       "      <td>35600</td>\n",
       "    </tr>\n",
       "    <tr>\n",
       "      <th>42</th>\n",
       "      <td>Young</td>\n",
       "      <td>54300</td>\n",
       "    </tr>\n",
       "    <tr>\n",
       "      <th>43</th>\n",
       "      <td>Middle Age</td>\n",
       "      <td>65400</td>\n",
       "    </tr>\n",
       "    <tr>\n",
       "      <th>44</th>\n",
       "      <td>Old</td>\n",
       "      <td>67800</td>\n",
       "    </tr>\n",
       "    <tr>\n",
       "      <th>45</th>\n",
       "      <td>Old</td>\n",
       "      <td>24500</td>\n",
       "    </tr>\n",
       "    <tr>\n",
       "      <th>46</th>\n",
       "      <td>Middle Age</td>\n",
       "      <td>34900</td>\n",
       "    </tr>\n",
       "    <tr>\n",
       "      <th>47</th>\n",
       "      <td>Old</td>\n",
       "      <td>45300</td>\n",
       "    </tr>\n",
       "    <tr>\n",
       "      <th>48</th>\n",
       "      <td>Young</td>\n",
       "      <td>68400</td>\n",
       "    </tr>\n",
       "    <tr>\n",
       "      <th>49</th>\n",
       "      <td>Middle Age</td>\n",
       "      <td>51700</td>\n",
       "    </tr>\n",
       "  </tbody>\n",
       "</table>\n",
       "</div>"
      ],
      "text/plain": [
       "           Age  Income\n",
       "0        Young   25000\n",
       "1   Middle Age   54000\n",
       "2          Old   60000\n",
       "3        Young   15000\n",
       "4        Young   45000\n",
       "5        Young   65000\n",
       "6        Young   70000\n",
       "7        Young   30000\n",
       "8   Middle Age   27000\n",
       "9        Young   23000\n",
       "10       Young   48000\n",
       "11         Old   52000\n",
       "12       Young   33000\n",
       "13         Old   80000\n",
       "14         Old   75000\n",
       "15         Old   35000\n",
       "16  Middle Age   29000\n",
       "17  Middle Age   57000\n",
       "18         Old   43000\n",
       "19  Middle Age   56000\n",
       "20         Old   63000\n",
       "21         Old   32000\n",
       "22         Old   45000\n",
       "23         Old   89000\n",
       "24  Middle Age   90000\n",
       "25  Middle Age   93000\n",
       "26       Young   80000\n",
       "27       Young   87000\n",
       "28       Young   38000\n",
       "29       Young   23000\n",
       "30  Middle Age   38900\n",
       "31  Middle Age   53200\n",
       "32         Old   43800\n",
       "33  Middle Age   25600\n",
       "34  Middle Age   65400\n",
       "35         Old   76800\n",
       "36         Old   89700\n",
       "37         Old   41800\n",
       "38       Young   31900\n",
       "39         Old   25600\n",
       "40  Middle Age   45700\n",
       "41         Old   35600\n",
       "42       Young   54300\n",
       "43  Middle Age   65400\n",
       "44         Old   67800\n",
       "45         Old   24500\n",
       "46  Middle Age   34900\n",
       "47         Old   45300\n",
       "48       Young   68400\n",
       "49  Middle Age   51700"
      ]
     },
     "execution_count": 3,
     "metadata": {},
     "output_type": "execute_result"
    }
   ],
   "source": [
    "df"
   ]
  },
  {
   "cell_type": "code",
   "execution_count": 4,
   "id": "d757cb99",
   "metadata": {},
   "outputs": [
    {
     "data": {
      "text/html": [
       "<div>\n",
       "<style scoped>\n",
       "    .dataframe tbody tr th:only-of-type {\n",
       "        vertical-align: middle;\n",
       "    }\n",
       "\n",
       "    .dataframe tbody tr th {\n",
       "        vertical-align: top;\n",
       "    }\n",
       "\n",
       "    .dataframe thead th {\n",
       "        text-align: right;\n",
       "    }\n",
       "</style>\n",
       "<table border=\"1\" class=\"dataframe\">\n",
       "  <thead>\n",
       "    <tr style=\"text-align: right;\">\n",
       "      <th></th>\n",
       "      <th>Income</th>\n",
       "    </tr>\n",
       "  </thead>\n",
       "  <tbody>\n",
       "    <tr>\n",
       "      <th>count</th>\n",
       "      <td>50.000000</td>\n",
       "    </tr>\n",
       "    <tr>\n",
       "      <th>mean</th>\n",
       "      <td>50966.000000</td>\n",
       "    </tr>\n",
       "    <tr>\n",
       "      <th>std</th>\n",
       "      <td>21096.683268</td>\n",
       "    </tr>\n",
       "    <tr>\n",
       "      <th>min</th>\n",
       "      <td>15000.000000</td>\n",
       "    </tr>\n",
       "    <tr>\n",
       "      <th>25%</th>\n",
       "      <td>33475.000000</td>\n",
       "    </tr>\n",
       "    <tr>\n",
       "      <th>50%</th>\n",
       "      <td>46850.000000</td>\n",
       "    </tr>\n",
       "    <tr>\n",
       "      <th>75%</th>\n",
       "      <td>65400.000000</td>\n",
       "    </tr>\n",
       "    <tr>\n",
       "      <th>max</th>\n",
       "      <td>93000.000000</td>\n",
       "    </tr>\n",
       "  </tbody>\n",
       "</table>\n",
       "</div>"
      ],
      "text/plain": [
       "             Income\n",
       "count     50.000000\n",
       "mean   50966.000000\n",
       "std    21096.683268\n",
       "min    15000.000000\n",
       "25%    33475.000000\n",
       "50%    46850.000000\n",
       "75%    65400.000000\n",
       "max    93000.000000"
      ]
     },
     "execution_count": 4,
     "metadata": {},
     "output_type": "execute_result"
    }
   ],
   "source": [
    "df.describe()"
   ]
  },
  {
   "cell_type": "code",
   "execution_count": 5,
   "id": "1c00a236",
   "metadata": {},
   "outputs": [
    {
     "data": {
      "text/plain": [
       "Age       0\n",
       "Income    0\n",
       "dtype: int64"
      ]
     },
     "execution_count": 5,
     "metadata": {},
     "output_type": "execute_result"
    }
   ],
   "source": [
    "df.isnull().sum()"
   ]
  },
  {
   "cell_type": "markdown",
   "id": "83c74919",
   "metadata": {},
   "source": [
    "## Mean"
   ]
  },
  {
   "cell_type": "code",
   "execution_count": 6,
   "id": "20c5bafd",
   "metadata": {},
   "outputs": [
    {
     "name": "stdout",
     "output_type": "stream",
     "text": [
      "50966.0\n"
     ]
    }
   ],
   "source": [
    "# calcualting mean by formula\n",
    "mean_income = sum(df['Income'])/len(df['Income'])\n",
    "print(mean_income)"
   ]
  },
  {
   "cell_type": "code",
   "execution_count": 7,
   "id": "842dbb68",
   "metadata": {},
   "outputs": [
    {
     "name": "stdout",
     "output_type": "stream",
     "text": [
      "50966\n"
     ]
    }
   ],
   "source": [
    "# Using statistics library function\n",
    "mean_income=statistics.mean(df['Income'])\n",
    "print(mean_income)"
   ]
  },
  {
   "cell_type": "code",
   "execution_count": 8,
   "id": "373fbe62",
   "metadata": {},
   "outputs": [],
   "source": [
    "income_np = np.array(df['Income'])\n",
    "income_df = pd.Series(df['Income'])"
   ]
  },
  {
   "cell_type": "code",
   "execution_count": 9,
   "id": "e713bc48",
   "metadata": {},
   "outputs": [
    {
     "name": "stdout",
     "output_type": "stream",
     "text": [
      "50966.0\n"
     ]
    }
   ],
   "source": [
    "#  Using NumPy function\n",
    "mean_income = np.mean(income_np)\n",
    "print(mean_income)"
   ]
  },
  {
   "cell_type": "code",
   "execution_count": 10,
   "id": "aaa6cdc4",
   "metadata": {},
   "outputs": [
    {
     "name": "stdout",
     "output_type": "stream",
     "text": [
      "50966.0\n"
     ]
    }
   ],
   "source": [
    "#Using Pandas function\n",
    "mean_income = income_df.mean()\n",
    "print(mean_income)"
   ]
  },
  {
   "cell_type": "markdown",
   "id": "8c29928b",
   "metadata": {},
   "source": [
    "## Median"
   ]
  },
  {
   "cell_type": "code",
   "execution_count": 11,
   "id": "fed26576",
   "metadata": {},
   "outputs": [
    {
     "name": "stdout",
     "output_type": "stream",
     "text": [
      "46850.0\n"
     ]
    }
   ],
   "source": [
    "# Calculating Median by formula\n",
    "n = len(df['Income'])\n",
    "if n % 2:\n",
    "    income_median = sorted(df['Income'])[round(0.5*(n-1))]\n",
    "else:\n",
    "    x_ord, index = sorted(df['Income']), round(0.5 * n)\n",
    "    income_median = 0.5 * (x_ord[index-1] + x_ord[index])\n",
    "\n",
    "print(income_median)"
   ]
  },
  {
   "cell_type": "code",
   "execution_count": 12,
   "id": "76e5881f",
   "metadata": {},
   "outputs": [
    {
     "name": "stdout",
     "output_type": "stream",
     "text": [
      "46850.0\n"
     ]
    }
   ],
   "source": [
    "# Using Statistics Library function\n",
    "income_median = statistics.median(df['Income'])\n",
    "print(income_median)"
   ]
  },
  {
   "cell_type": "code",
   "execution_count": 13,
   "id": "411e59c6",
   "metadata": {},
   "outputs": [
    {
     "name": "stdout",
     "output_type": "stream",
     "text": [
      "46850.0\n"
     ]
    }
   ],
   "source": [
    "# Using NumPy function\n",
    "income_median = np.median(income_np)\n",
    "print(income_median)"
   ]
  },
  {
   "cell_type": "code",
   "execution_count": 14,
   "id": "763b0dce",
   "metadata": {},
   "outputs": [
    {
     "name": "stdout",
     "output_type": "stream",
     "text": [
      "46850.0\n"
     ]
    }
   ],
   "source": [
    "# Using Pandas function\n",
    "income_df.median()\n",
    "print(income_median)"
   ]
  },
  {
   "cell_type": "markdown",
   "id": "e443f46a",
   "metadata": {},
   "source": [
    "## Mode"
   ]
  },
  {
   "cell_type": "code",
   "execution_count": 15,
   "id": "28e798e6",
   "metadata": {},
   "outputs": [
    {
     "name": "stdout",
     "output_type": "stream",
     "text": [
      "45000\n"
     ]
    }
   ],
   "source": [
    "# Finding the mode without any library\n",
    "income=df['Income']\n",
    "def mostFrequent(arr, n):\n",
    "    maxcount = 0;\n",
    "    element_having_max_freq = 0;\n",
    "    for i in range(0, n):\n",
    "        count = 0\n",
    "        for j in range(0, n):\n",
    "            if(arr[i] == arr[j]):\n",
    "                count += 1\n",
    "        if(count > maxcount):\n",
    "            maxcount = count\n",
    "            element_having_max_freq = arr[i]\n",
    "    \n",
    "    return element_having_max_freq;\n",
    "\n",
    "print(mostFrequent(income, len(income)))"
   ]
  },
  {
   "cell_type": "code",
   "execution_count": 16,
   "id": "25b9362c",
   "metadata": {},
   "outputs": [
    {
     "name": "stdout",
     "output_type": "stream",
     "text": [
      "45000\n"
     ]
    }
   ],
   "source": [
    "# Using Statistics Library function\n",
    "income_mode = statistics.mode(df['Income'])\n",
    "print(income_mode)"
   ]
  },
  {
   "cell_type": "code",
   "execution_count": 17,
   "id": "4c700c32",
   "metadata": {},
   "outputs": [
    {
     "name": "stdout",
     "output_type": "stream",
     "text": [
      "ModeResult(mode=array([45000], dtype=int64), count=array([2]))\n"
     ]
    }
   ],
   "source": [
    "#Using NumPy function\n",
    "income_mode = scipy.stats.mode(income_np)\n",
    "print(income_mode)"
   ]
  },
  {
   "cell_type": "code",
   "execution_count": 18,
   "id": "7bd00f23",
   "metadata": {},
   "outputs": [
    {
     "name": "stdout",
     "output_type": "stream",
     "text": [
      "ModeResult(mode=array([45000], dtype=int64), count=array([2]))\n"
     ]
    }
   ],
   "source": [
    "# Using Pandas function\n",
    "income_df.mode()\n",
    "print(income_mode)"
   ]
  },
  {
   "cell_type": "markdown",
   "id": "e1284664",
   "metadata": {},
   "source": [
    "## Variance"
   ]
  },
  {
   "cell_type": "code",
   "execution_count": 19,
   "id": "8dfc1ccb",
   "metadata": {},
   "outputs": [
    {
     "name": "stdout",
     "output_type": "stream",
     "text": [
      "445070044.8979592\n"
     ]
    }
   ],
   "source": [
    "# Calculating Variance using Formula (without libraries)\n",
    "n = len(df['Income'])\n",
    "income_mean = sum(df['Income']) / n\n",
    "income_var = sum((item - income_mean)**2 for item in df['Income']) / (n - 1)\n",
    "print(income_var)"
   ]
  },
  {
   "cell_type": "code",
   "execution_count": 20,
   "id": "ecca9ab4",
   "metadata": {},
   "outputs": [
    {
     "name": "stdout",
     "output_type": "stream",
     "text": [
      "445070044.8979592\n"
     ]
    }
   ],
   "source": [
    "# Using Statistics library function\n",
    "income_var = statistics.variance(df['Income'])\n",
    "print(income_var)\n"
   ]
  },
  {
   "cell_type": "code",
   "execution_count": 21,
   "id": "a10360d5",
   "metadata": {},
   "outputs": [
    {
     "name": "stdout",
     "output_type": "stream",
     "text": [
      "445070044.8979592\n"
     ]
    }
   ],
   "source": [
    "# Using NumPy library function\n",
    "income_var = np.var(income_np, ddof=1) #Here the ddof stands for delta degrees of freedom. This parameter allows the proper \n",
    "print(income_var)                      #calculation of 𝑠², with (𝑛 − 1) in the denominator instead of 𝑛."
   ]
  },
  {
   "cell_type": "code",
   "execution_count": 22,
   "id": "2ee54f5c",
   "metadata": {},
   "outputs": [
    {
     "name": "stdout",
     "output_type": "stream",
     "text": [
      "445070044.8979592\n"
     ]
    }
   ],
   "source": [
    "# Using Pandas Library function\n",
    "income_df.var(ddof=1)\n",
    "print(income_var)"
   ]
  },
  {
   "cell_type": "markdown",
   "id": "ce5ff9e8",
   "metadata": {},
   "source": [
    "## Standard Deviation"
   ]
  },
  {
   "cell_type": "code",
   "execution_count": 23,
   "id": "bdfb722e",
   "metadata": {},
   "outputs": [
    {
     "name": "stdout",
     "output_type": "stream",
     "text": [
      "21096.683267707253\n"
     ]
    }
   ],
   "source": [
    "# Calculating Standard Deviation using Formula (without libraries)\n",
    "income_std = income_var**0.5\n",
    "print(income_std)"
   ]
  },
  {
   "cell_type": "code",
   "execution_count": 24,
   "id": "23b659d8",
   "metadata": {},
   "outputs": [
    {
     "name": "stdout",
     "output_type": "stream",
     "text": [
      "21096.683267707253\n"
     ]
    }
   ],
   "source": [
    "# Using NumPy library function\n",
    "income_std = np.std(income_np, ddof=1) #Here the ddof stands for delta degrees of freedom. This parameter allows the proper \n",
    "print(income_std)                      #calculation of 𝑠², with (𝑛 − 1) in the denominator instead of 𝑛."
   ]
  },
  {
   "cell_type": "code",
   "execution_count": 25,
   "id": "2c5cd980",
   "metadata": {},
   "outputs": [
    {
     "name": "stdout",
     "output_type": "stream",
     "text": [
      "21096.683267707253\n"
     ]
    }
   ],
   "source": [
    "# Using Pandas Library function\n",
    "income_df.std(ddof=1)\n",
    "print(income_std)"
   ]
  },
  {
   "cell_type": "markdown",
   "id": "42035e86",
   "metadata": {},
   "source": [
    "## Skewness"
   ]
  },
  {
   "cell_type": "code",
   "execution_count": 26,
   "id": "e7337398",
   "metadata": {},
   "outputs": [
    {
     "data": {
      "text/plain": [
       "0.3896340114677523"
      ]
     },
     "execution_count": 26,
     "metadata": {},
     "output_type": "execute_result"
    }
   ],
   "source": [
    "# Calculating Skewness using formula (without libraries)\n",
    "n = len(df['Income'])\n",
    "income_mean = sum(df['Income']) / n\n",
    "income_var = sum((item - income_mean)**2 for item in df['Income']) / (n - 1)\n",
    "income_std = income_var ** 0.5\n",
    "income_skew = (sum((item - income_mean)**3 for item in df['Income'])* n / ((n - 1) * (n - 2) * income_std**3))\n",
    "income_skew"
   ]
  },
  {
   "cell_type": "code",
   "execution_count": 27,
   "id": "b8d04fd3",
   "metadata": {},
   "outputs": [
    {
     "name": "stdout",
     "output_type": "stream",
     "text": [
      "0.3896340114677522\n"
     ]
    }
   ],
   "source": [
    "# Finding Skewness using Libraries\n",
    "# Using Scipy library function\n",
    "income_skew=scipy.stats.skew(income_np, bias=False) #Here the parameter bias is set to False to enable the corrections for statistical bias.\n",
    "print(income_skew)"
   ]
  },
  {
   "cell_type": "code",
   "execution_count": 28,
   "id": "14c5e407",
   "metadata": {},
   "outputs": [
    {
     "name": "stdout",
     "output_type": "stream",
     "text": [
      "0.3896340114677522\n"
     ]
    }
   ],
   "source": [
    "# Using Pandas Library function\n",
    "income_df.skew()\n",
    "print(income_skew)"
   ]
  },
  {
   "cell_type": "markdown",
   "id": "c5262602",
   "metadata": {},
   "source": [
    "The graph showing the distribution"
   ]
  },
  {
   "cell_type": "code",
   "execution_count": 29,
   "id": "6dc4aa84",
   "metadata": {},
   "outputs": [
    {
     "data": {
      "text/plain": [
       "<AxesSubplot:ylabel='Density'>"
      ]
     },
     "execution_count": 29,
     "metadata": {},
     "output_type": "execute_result"
    },
    {
     "data": {
      "image/png": "[encoded data removed]",
      "text/plain": [
       "<Figure size 432x288 with 1 Axes>"
      ]
     },
     "metadata": {
      "needs_background": "light"
     },
     "output_type": "display_data"
    }
   ],
   "source": [
    "income.plot(kind='density')"
   ]
  },
  {
   "cell_type": "markdown",
   "id": "7d21eb8b",
   "metadata": {},
   "source": [
    "## Kurtosis"
   ]
  },
  {
   "cell_type": "code",
   "execution_count": 30,
   "id": "97a7d199",
   "metadata": {},
   "outputs": [
    {
     "data": {
      "text/plain": [
       "-0.8429291874944673"
      ]
     },
     "execution_count": 30,
     "metadata": {},
     "output_type": "execute_result"
    }
   ],
   "source": [
    "income.kurt()"
   ]
  },
  {
   "cell_type": "markdown",
   "id": "83064632",
   "metadata": {},
   "source": [
    "## Minimum"
   ]
  },
  {
   "cell_type": "code",
   "execution_count": 31,
   "id": "ae36ba43",
   "metadata": {},
   "outputs": [
    {
     "name": "stdout",
     "output_type": "stream",
     "text": [
      "15000\n"
     ]
    }
   ],
   "source": [
    "def minimum(income): \n",
    "    current_min = income[0] \n",
    "    for num in income:\n",
    "        if num < current_min:\n",
    "            current_min = num\n",
    "            return current_min \n",
    "print(minimum(income))"
   ]
  },
  {
   "cell_type": "code",
   "execution_count": 32,
   "id": "e9378b08",
   "metadata": {},
   "outputs": [
    {
     "data": {
      "text/plain": [
       "15000"
      ]
     },
     "execution_count": 32,
     "metadata": {},
     "output_type": "execute_result"
    }
   ],
   "source": [
    "#using library\n",
    "min(income)"
   ]
  },
  {
   "cell_type": "markdown",
   "id": "562e9118",
   "metadata": {},
   "source": [
    "## Maximum"
   ]
  },
  {
   "cell_type": "code",
   "execution_count": 33,
   "id": "ccd32632",
   "metadata": {},
   "outputs": [
    {
     "name": "stdout",
     "output_type": "stream",
     "text": [
      "Maximum value: 93000\n"
     ]
    }
   ],
   "source": [
    "#using formula\n",
    "max_value = None \n",
    "for num in income:\n",
    "    if (max_value is None or num > max_value): \n",
    "        max_value = num\n",
    "print('Maximum value:', max_value)"
   ]
  },
  {
   "cell_type": "code",
   "execution_count": 34,
   "id": "17abe7ff",
   "metadata": {},
   "outputs": [
    {
     "data": {
      "text/plain": [
       "93000"
      ]
     },
     "execution_count": 34,
     "metadata": {},
     "output_type": "execute_result"
    }
   ],
   "source": [
    "#using libraries\n",
    "max(income)"
   ]
  },
  {
   "cell_type": "markdown",
   "id": "2f0044af",
   "metadata": {},
   "source": [
    "#  Summary statistics of income grouped by the age groups."
   ]
  },
  {
   "cell_type": "code",
   "execution_count": 35,
   "id": "6ed8e93b",
   "metadata": {},
   "outputs": [],
   "source": [
    "age=df.groupby('Age',axis=0) \n"
   ]
  },
  {
   "cell_type": "code",
   "execution_count": 36,
   "id": "74d62c30",
   "metadata": {},
   "outputs": [
    {
     "data": {
      "text/html": [
       "<div>\n",
       "<style scoped>\n",
       "    .dataframe tbody tr th:only-of-type {\n",
       "        vertical-align: middle;\n",
       "    }\n",
       "\n",
       "    .dataframe tbody tr th {\n",
       "        vertical-align: top;\n",
       "    }\n",
       "\n",
       "    .dataframe thead tr th {\n",
       "        text-align: left;\n",
       "    }\n",
       "\n",
       "    .dataframe thead tr:last-of-type th {\n",
       "        text-align: right;\n",
       "    }\n",
       "</style>\n",
       "<table border=\"1\" class=\"dataframe\">\n",
       "  <thead>\n",
       "    <tr>\n",
       "      <th></th>\n",
       "      <th colspan=\"8\" halign=\"left\">Income</th>\n",
       "    </tr>\n",
       "    <tr>\n",
       "      <th></th>\n",
       "      <th>count</th>\n",
       "      <th>mean</th>\n",
       "      <th>std</th>\n",
       "      <th>min</th>\n",
       "      <th>25%</th>\n",
       "      <th>50%</th>\n",
       "      <th>75%</th>\n",
       "      <th>max</th>\n",
       "    </tr>\n",
       "    <tr>\n",
       "      <th>Age</th>\n",
       "      <th></th>\n",
       "      <th></th>\n",
       "      <th></th>\n",
       "      <th></th>\n",
       "      <th></th>\n",
       "      <th></th>\n",
       "      <th></th>\n",
       "      <th></th>\n",
       "    </tr>\n",
       "  </thead>\n",
       "  <tbody>\n",
       "    <tr>\n",
       "      <th>Middle Age</th>\n",
       "      <td>15.0</td>\n",
       "      <td>52453.333333</td>\n",
       "      <td>20497.800114</td>\n",
       "      <td>25600.0</td>\n",
       "      <td>36900.0</td>\n",
       "      <td>53200.0</td>\n",
       "      <td>61200.0</td>\n",
       "      <td>93000.0</td>\n",
       "    </tr>\n",
       "    <tr>\n",
       "      <th>Old</th>\n",
       "      <td>19.0</td>\n",
       "      <td>53942.105263</td>\n",
       "      <td>20868.165968</td>\n",
       "      <td>24500.0</td>\n",
       "      <td>38700.0</td>\n",
       "      <td>45300.0</td>\n",
       "      <td>71400.0</td>\n",
       "      <td>89700.0</td>\n",
       "    </tr>\n",
       "    <tr>\n",
       "      <th>Young</th>\n",
       "      <td>16.0</td>\n",
       "      <td>46037.500000</td>\n",
       "      <td>22356.859499</td>\n",
       "      <td>15000.0</td>\n",
       "      <td>28750.0</td>\n",
       "      <td>41500.0</td>\n",
       "      <td>65850.0</td>\n",
       "      <td>87000.0</td>\n",
       "    </tr>\n",
       "  </tbody>\n",
       "</table>\n",
       "</div>"
      ],
      "text/plain": [
       "           Income                                                         \\\n",
       "            count          mean           std      min      25%      50%   \n",
       "Age                                                                        \n",
       "Middle Age   15.0  52453.333333  20497.800114  25600.0  36900.0  53200.0   \n",
       "Old          19.0  53942.105263  20868.165968  24500.0  38700.0  45300.0   \n",
       "Young        16.0  46037.500000  22356.859499  15000.0  28750.0  41500.0   \n",
       "\n",
       "                              \n",
       "                75%      max  \n",
       "Age                           \n",
       "Middle Age  61200.0  93000.0  \n",
       "Old         71400.0  89700.0  \n",
       "Young       65850.0  87000.0  "
      ]
     },
     "execution_count": 36,
     "metadata": {},
     "output_type": "execute_result"
    }
   ],
   "source": [
    "age.describe()"
   ]
  },
  {
   "cell_type": "code",
   "execution_count": 37,
   "id": "3f675d92",
   "metadata": {},
   "outputs": [
    {
     "data": {
      "text/html": [
       "<div>\n",
       "<style scoped>\n",
       "    .dataframe tbody tr th:only-of-type {\n",
       "        vertical-align: middle;\n",
       "    }\n",
       "\n",
       "    .dataframe tbody tr th {\n",
       "        vertical-align: top;\n",
       "    }\n",
       "\n",
       "    .dataframe thead th {\n",
       "        text-align: right;\n",
       "    }\n",
       "</style>\n",
       "<table border=\"1\" class=\"dataframe\">\n",
       "  <thead>\n",
       "    <tr style=\"text-align: right;\">\n",
       "      <th></th>\n",
       "      <th>Income</th>\n",
       "    </tr>\n",
       "    <tr>\n",
       "      <th>Age</th>\n",
       "      <th></th>\n",
       "    </tr>\n",
       "  </thead>\n",
       "  <tbody>\n",
       "    <tr>\n",
       "      <th>Middle Age</th>\n",
       "      <td>15</td>\n",
       "    </tr>\n",
       "    <tr>\n",
       "      <th>Old</th>\n",
       "      <td>19</td>\n",
       "    </tr>\n",
       "    <tr>\n",
       "      <th>Young</th>\n",
       "      <td>16</td>\n",
       "    </tr>\n",
       "  </tbody>\n",
       "</table>\n",
       "</div>"
      ],
      "text/plain": [
       "            Income\n",
       "Age               \n",
       "Middle Age      15\n",
       "Old             19\n",
       "Young           16"
      ]
     },
     "execution_count": 37,
     "metadata": {},
     "output_type": "execute_result"
    }
   ],
   "source": [
    "age.count()"
   ]
  },
  {
   "cell_type": "code",
   "execution_count": 38,
   "id": "e9a323a9",
   "metadata": {},
   "outputs": [],
   "source": [
    "old=df[df['Age'] == 'Old']['Income']\n",
    "you=df[df['Age'] == 'Young']['Income']\n",
    "mid=df[df['Age'] == 'Middle Age']['Income']"
   ]
  },
  {
   "cell_type": "markdown",
   "id": "0f5c8103",
   "metadata": {},
   "source": [
    "## Mean"
   ]
  },
  {
   "cell_type": "code",
   "execution_count": 39,
   "id": "709b0b81",
   "metadata": {},
   "outputs": [
    {
     "name": "stdout",
     "output_type": "stream",
     "text": [
      "53942.10526315789\n"
     ]
    }
   ],
   "source": [
    "old_age_count = df[df['Age'] == 'Old']['Income'].count()\n",
    "old_age_sum = df[df['Age'] == 'Old']['Income'].sum()\n",
    "mean_score_of_old_age = old_age_sum/old_age_count\n",
    "print(mean_score_of_old_age)"
   ]
  },
  {
   "cell_type": "code",
   "execution_count": 40,
   "id": "f1773bfb",
   "metadata": {},
   "outputs": [
    {
     "name": "stdout",
     "output_type": "stream",
     "text": [
      "46037.5\n"
     ]
    }
   ],
   "source": [
    "young_age_count = df[df['Age'] == 'Young']['Income'].count()\n",
    "young_age_sum = df[df['Age'] == 'Young']['Income'].sum()\n",
    "mean_score_of_young_age = young_age_sum/young_age_count\n",
    "print(mean_score_of_young_age)"
   ]
  },
  {
   "cell_type": "code",
   "execution_count": 41,
   "id": "092f5985",
   "metadata": {},
   "outputs": [
    {
     "name": "stdout",
     "output_type": "stream",
     "text": [
      "52453.333333333336\n"
     ]
    }
   ],
   "source": [
    "middle_age_sum = df[df['Age'] == 'Middle Age']['Income'].sum()\n",
    "middle_age_count = df[df['Age'] == 'Middle Age']['Income'].count()\n",
    "mean_score_of_middle_age = middle_age_sum/middle_age_count\n",
    "print(mean_score_of_middle_age)"
   ]
  },
  {
   "cell_type": "code",
   "execution_count": 42,
   "id": "b2839a56",
   "metadata": {},
   "outputs": [
    {
     "data": {
      "text/html": [
       "<div>\n",
       "<style scoped>\n",
       "    .dataframe tbody tr th:only-of-type {\n",
       "        vertical-align: middle;\n",
       "    }\n",
       "\n",
       "    .dataframe tbody tr th {\n",
       "        vertical-align: top;\n",
       "    }\n",
       "\n",
       "    .dataframe thead th {\n",
       "        text-align: right;\n",
       "    }\n",
       "</style>\n",
       "<table border=\"1\" class=\"dataframe\">\n",
       "  <thead>\n",
       "    <tr style=\"text-align: right;\">\n",
       "      <th></th>\n",
       "      <th>Income</th>\n",
       "    </tr>\n",
       "    <tr>\n",
       "      <th>Age</th>\n",
       "      <th></th>\n",
       "    </tr>\n",
       "  </thead>\n",
       "  <tbody>\n",
       "    <tr>\n",
       "      <th>Middle Age</th>\n",
       "      <td>52453.333333</td>\n",
       "    </tr>\n",
       "    <tr>\n",
       "      <th>Old</th>\n",
       "      <td>53942.105263</td>\n",
       "    </tr>\n",
       "    <tr>\n",
       "      <th>Young</th>\n",
       "      <td>46037.500000</td>\n",
       "    </tr>\n",
       "  </tbody>\n",
       "</table>\n",
       "</div>"
      ],
      "text/plain": [
       "                  Income\n",
       "Age                     \n",
       "Middle Age  52453.333333\n",
       "Old         53942.105263\n",
       "Young       46037.500000"
      ]
     },
     "execution_count": 42,
     "metadata": {},
     "output_type": "execute_result"
    }
   ],
   "source": [
    "#Mean Pandas\n",
    "age.mean()"
   ]
  },
  {
   "cell_type": "markdown",
   "id": "3f2abaae",
   "metadata": {},
   "source": [
    "## Median"
   ]
  },
  {
   "cell_type": "code",
   "execution_count": 43,
   "id": "f5594445",
   "metadata": {},
   "outputs": [
    {
     "name": "stdout",
     "output_type": "stream",
     "text": [
      "45300\n"
     ]
    }
   ],
   "source": [
    "# Calculating Median by formula for Old age group\n",
    "o = len(old)\n",
    "if o % 2:\n",
    "    Old_age_median = sorted(old)[round(0.5*(o-1))]\n",
    "else:\n",
    "    x_ord, index = sorted(old), round(0.5 * o)\n",
    "    Old_age_median = 0.5 * (x_ord[index-1] + x_ord[index])\n",
    "\n",
    "print(Old_age_median)"
   ]
  },
  {
   "cell_type": "code",
   "execution_count": 44,
   "id": "f87d975b",
   "metadata": {},
   "outputs": [
    {
     "name": "stdout",
     "output_type": "stream",
     "text": [
      "41500.0\n"
     ]
    }
   ],
   "source": [
    "# Calculating Median by formula for Young age group\n",
    "y = len(you)\n",
    "if y % 2:\n",
    "    Young_age_median = sorted(you)[round(0.5*(y-1))]\n",
    "else:\n",
    "    x_ord, index = sorted(you), round(0.5 * y)\n",
    "    Young_age_median = 0.5 * (x_ord[index-1] + x_ord[index])\n",
    "\n",
    "print(Young_age_median)"
   ]
  },
  {
   "cell_type": "code",
   "execution_count": 45,
   "id": "5c8b8a7e",
   "metadata": {},
   "outputs": [
    {
     "name": "stdout",
     "output_type": "stream",
     "text": [
      "53200\n"
     ]
    }
   ],
   "source": [
    "# Calculating Median by formula for Young age group\n",
    "y = len(mid)\n",
    "if y % 2:\n",
    "    Young_age_median = sorted(mid)[round(0.5*(y-1))]\n",
    "else:\n",
    "    x_ord, index = sorted(mid), round(0.5 * y)\n",
    "    Young_age_median = 0.5 * (x_ord[index-1] + x_ord[index])\n",
    "\n",
    "print(Young_age_median)"
   ]
  },
  {
   "cell_type": "code",
   "execution_count": 46,
   "id": "db840100",
   "metadata": {},
   "outputs": [
    {
     "data": {
      "text/html": [
       "<div>\n",
       "<style scoped>\n",
       "    .dataframe tbody tr th:only-of-type {\n",
       "        vertical-align: middle;\n",
       "    }\n",
       "\n",
       "    .dataframe tbody tr th {\n",
       "        vertical-align: top;\n",
       "    }\n",
       "\n",
       "    .dataframe thead th {\n",
       "        text-align: right;\n",
       "    }\n",
       "</style>\n",
       "<table border=\"1\" class=\"dataframe\">\n",
       "  <thead>\n",
       "    <tr style=\"text-align: right;\">\n",
       "      <th></th>\n",
       "      <th>Income</th>\n",
       "    </tr>\n",
       "    <tr>\n",
       "      <th>Age</th>\n",
       "      <th></th>\n",
       "    </tr>\n",
       "  </thead>\n",
       "  <tbody>\n",
       "    <tr>\n",
       "      <th>Middle Age</th>\n",
       "      <td>53200.0</td>\n",
       "    </tr>\n",
       "    <tr>\n",
       "      <th>Old</th>\n",
       "      <td>45300.0</td>\n",
       "    </tr>\n",
       "    <tr>\n",
       "      <th>Young</th>\n",
       "      <td>41500.0</td>\n",
       "    </tr>\n",
       "  </tbody>\n",
       "</table>\n",
       "</div>"
      ],
      "text/plain": [
       "             Income\n",
       "Age                \n",
       "Middle Age  53200.0\n",
       "Old         45300.0\n",
       "Young       41500.0"
      ]
     },
     "execution_count": 46,
     "metadata": {},
     "output_type": "execute_result"
    }
   ],
   "source": [
    "age.median()"
   ]
  },
  {
   "cell_type": "markdown",
   "id": "b9d4b896",
   "metadata": {},
   "source": [
    "## Minimum"
   ]
  },
  {
   "cell_type": "code",
   "execution_count": 47,
   "id": "105ad788",
   "metadata": {},
   "outputs": [
    {
     "data": {
      "text/html": [
       "<div>\n",
       "<style scoped>\n",
       "    .dataframe tbody tr th:only-of-type {\n",
       "        vertical-align: middle;\n",
       "    }\n",
       "\n",
       "    .dataframe tbody tr th {\n",
       "        vertical-align: top;\n",
       "    }\n",
       "\n",
       "    .dataframe thead th {\n",
       "        text-align: right;\n",
       "    }\n",
       "</style>\n",
       "<table border=\"1\" class=\"dataframe\">\n",
       "  <thead>\n",
       "    <tr style=\"text-align: right;\">\n",
       "      <th></th>\n",
       "      <th>Income</th>\n",
       "    </tr>\n",
       "    <tr>\n",
       "      <th>Age</th>\n",
       "      <th></th>\n",
       "    </tr>\n",
       "  </thead>\n",
       "  <tbody>\n",
       "    <tr>\n",
       "      <th>Middle Age</th>\n",
       "      <td>25600</td>\n",
       "    </tr>\n",
       "    <tr>\n",
       "      <th>Old</th>\n",
       "      <td>24500</td>\n",
       "    </tr>\n",
       "    <tr>\n",
       "      <th>Young</th>\n",
       "      <td>15000</td>\n",
       "    </tr>\n",
       "  </tbody>\n",
       "</table>\n",
       "</div>"
      ],
      "text/plain": [
       "            Income\n",
       "Age               \n",
       "Middle Age   25600\n",
       "Old          24500\n",
       "Young        15000"
      ]
     },
     "execution_count": 47,
     "metadata": {},
     "output_type": "execute_result"
    }
   ],
   "source": [
    "age.min()"
   ]
  },
  {
   "cell_type": "markdown",
   "id": "32d6bd21",
   "metadata": {},
   "source": [
    "## Maximum"
   ]
  },
  {
   "cell_type": "code",
   "execution_count": 48,
   "id": "f2069608",
   "metadata": {},
   "outputs": [
    {
     "data": {
      "text/html": [
       "<div>\n",
       "<style scoped>\n",
       "    .dataframe tbody tr th:only-of-type {\n",
       "        vertical-align: middle;\n",
       "    }\n",
       "\n",
       "    .dataframe tbody tr th {\n",
       "        vertical-align: top;\n",
       "    }\n",
       "\n",
       "    .dataframe thead th {\n",
       "        text-align: right;\n",
       "    }\n",
       "</style>\n",
       "<table border=\"1\" class=\"dataframe\">\n",
       "  <thead>\n",
       "    <tr style=\"text-align: right;\">\n",
       "      <th></th>\n",
       "      <th>Income</th>\n",
       "    </tr>\n",
       "    <tr>\n",
       "      <th>Age</th>\n",
       "      <th></th>\n",
       "    </tr>\n",
       "  </thead>\n",
       "  <tbody>\n",
       "    <tr>\n",
       "      <th>Middle Age</th>\n",
       "      <td>93000</td>\n",
       "    </tr>\n",
       "    <tr>\n",
       "      <th>Old</th>\n",
       "      <td>89700</td>\n",
       "    </tr>\n",
       "    <tr>\n",
       "      <th>Young</th>\n",
       "      <td>87000</td>\n",
       "    </tr>\n",
       "  </tbody>\n",
       "</table>\n",
       "</div>"
      ],
      "text/plain": [
       "            Income\n",
       "Age               \n",
       "Middle Age   93000\n",
       "Old          89700\n",
       "Young        87000"
      ]
     },
     "execution_count": 48,
     "metadata": {},
     "output_type": "execute_result"
    }
   ],
   "source": [
    "age.max()"
   ]
  },
  {
   "cell_type": "markdown",
   "id": "1e8a78f2",
   "metadata": {},
   "source": [
    "## Variance and Standard Deviation"
   ]
  },
  {
   "cell_type": "code",
   "execution_count": 49,
   "id": "337b0cc3",
   "metadata": {},
   "outputs": [],
   "source": [
    "#find variance\n",
    "# Calculating Variance using Formula (without libraries)\n",
    "def variance(income):\n",
    "    n = len(income)\n",
    "    income_mean = sum(income) / n\n",
    "    income_var = sum((item - income_mean)**2 for item in income) / (n - 1)\n",
    "    return income_var\n",
    "\n",
    "# Calculating Standard deviation using Formula (without libraries)\n",
    "def standard_deviation(array):\n",
    "    income_std = variance(array)**0.5\n",
    "    print(\"Variance:\",income_var)\n",
    "    print(\"Standard Deviation:\",income_std)"
   ]
  },
  {
   "cell_type": "code",
   "execution_count": 50,
   "id": "333edb72",
   "metadata": {},
   "outputs": [
    {
     "name": "stdout",
     "output_type": "stream",
     "text": [
      "Variance: 445070044.8979592\n",
      "Standard Deviation: 20497.800114251517\n"
     ]
    }
   ],
   "source": [
    "standard_deviation(mid)"
   ]
  },
  {
   "cell_type": "code",
   "execution_count": 51,
   "id": "bedc90a8",
   "metadata": {},
   "outputs": [
    {
     "name": "stdout",
     "output_type": "stream",
     "text": [
      "Variance: 445070044.8979592\n",
      "Standard Deviation: 20868.165968220423\n"
     ]
    }
   ],
   "source": [
    "standard_deviation(old)"
   ]
  },
  {
   "cell_type": "code",
   "execution_count": 52,
   "id": "de66dd31",
   "metadata": {},
   "outputs": [
    {
     "name": "stdout",
     "output_type": "stream",
     "text": [
      "Variance: 445070044.8979592\n",
      "Standard Deviation: 22356.859499193233\n"
     ]
    }
   ],
   "source": [
    "standard_deviation(you)"
   ]
  },
  {
   "cell_type": "code",
   "execution_count": 53,
   "id": "9d0017e8",
   "metadata": {},
   "outputs": [
    {
     "data": {
      "text/html": [
       "<div>\n",
       "<style scoped>\n",
       "    .dataframe tbody tr th:only-of-type {\n",
       "        vertical-align: middle;\n",
       "    }\n",
       "\n",
       "    .dataframe tbody tr th {\n",
       "        vertical-align: top;\n",
       "    }\n",
       "\n",
       "    .dataframe thead th {\n",
       "        text-align: right;\n",
       "    }\n",
       "</style>\n",
       "<table border=\"1\" class=\"dataframe\">\n",
       "  <thead>\n",
       "    <tr style=\"text-align: right;\">\n",
       "      <th></th>\n",
       "      <th>Income</th>\n",
       "    </tr>\n",
       "    <tr>\n",
       "      <th>Age</th>\n",
       "      <th></th>\n",
       "    </tr>\n",
       "  </thead>\n",
       "  <tbody>\n",
       "    <tr>\n",
       "      <th>Middle Age</th>\n",
       "      <td>20497.800114</td>\n",
       "    </tr>\n",
       "    <tr>\n",
       "      <th>Old</th>\n",
       "      <td>20868.165968</td>\n",
       "    </tr>\n",
       "    <tr>\n",
       "      <th>Young</th>\n",
       "      <td>22356.859499</td>\n",
       "    </tr>\n",
       "  </tbody>\n",
       "</table>\n",
       "</div>"
      ],
      "text/plain": [
       "                  Income\n",
       "Age                     \n",
       "Middle Age  20497.800114\n",
       "Old         20868.165968\n",
       "Young       22356.859499"
      ]
     },
     "execution_count": 53,
     "metadata": {},
     "output_type": "execute_result"
    }
   ],
   "source": [
    "#SD using library\n",
    "age.std()"
   ]
  },
  {
   "cell_type": "markdown",
   "id": "42c98980",
   "metadata": {},
   "source": [
    "# A list that contains a numeric value for each response to the categorical variable"
   ]
  },
  {
   "cell_type": "code",
   "execution_count": 54,
   "id": "2f116e18",
   "metadata": {},
   "outputs": [
    {
     "data": {
      "text/html": [
       "<div>\n",
       "<style scoped>\n",
       "    .dataframe tbody tr th:only-of-type {\n",
       "        vertical-align: middle;\n",
       "    }\n",
       "\n",
       "    .dataframe tbody tr th {\n",
       "        vertical-align: top;\n",
       "    }\n",
       "\n",
       "    .dataframe thead th {\n",
       "        text-align: right;\n",
       "    }\n",
       "</style>\n",
       "<table border=\"1\" class=\"dataframe\">\n",
       "  <thead>\n",
       "    <tr style=\"text-align: right;\">\n",
       "      <th></th>\n",
       "      <th>Age</th>\n",
       "      <th>Income</th>\n",
       "    </tr>\n",
       "  </thead>\n",
       "  <tbody>\n",
       "    <tr>\n",
       "      <th>0</th>\n",
       "      <td>2</td>\n",
       "      <td>25000</td>\n",
       "    </tr>\n",
       "    <tr>\n",
       "      <th>1</th>\n",
       "      <td>0</td>\n",
       "      <td>54000</td>\n",
       "    </tr>\n",
       "    <tr>\n",
       "      <th>2</th>\n",
       "      <td>1</td>\n",
       "      <td>60000</td>\n",
       "    </tr>\n",
       "    <tr>\n",
       "      <th>3</th>\n",
       "      <td>2</td>\n",
       "      <td>15000</td>\n",
       "    </tr>\n",
       "    <tr>\n",
       "      <th>4</th>\n",
       "      <td>2</td>\n",
       "      <td>45000</td>\n",
       "    </tr>\n",
       "    <tr>\n",
       "      <th>5</th>\n",
       "      <td>2</td>\n",
       "      <td>65000</td>\n",
       "    </tr>\n",
       "    <tr>\n",
       "      <th>6</th>\n",
       "      <td>2</td>\n",
       "      <td>70000</td>\n",
       "    </tr>\n",
       "    <tr>\n",
       "      <th>7</th>\n",
       "      <td>2</td>\n",
       "      <td>30000</td>\n",
       "    </tr>\n",
       "    <tr>\n",
       "      <th>8</th>\n",
       "      <td>0</td>\n",
       "      <td>27000</td>\n",
       "    </tr>\n",
       "    <tr>\n",
       "      <th>9</th>\n",
       "      <td>2</td>\n",
       "      <td>23000</td>\n",
       "    </tr>\n",
       "    <tr>\n",
       "      <th>10</th>\n",
       "      <td>2</td>\n",
       "      <td>48000</td>\n",
       "    </tr>\n",
       "    <tr>\n",
       "      <th>11</th>\n",
       "      <td>1</td>\n",
       "      <td>52000</td>\n",
       "    </tr>\n",
       "    <tr>\n",
       "      <th>12</th>\n",
       "      <td>2</td>\n",
       "      <td>33000</td>\n",
       "    </tr>\n",
       "    <tr>\n",
       "      <th>13</th>\n",
       "      <td>1</td>\n",
       "      <td>80000</td>\n",
       "    </tr>\n",
       "    <tr>\n",
       "      <th>14</th>\n",
       "      <td>1</td>\n",
       "      <td>75000</td>\n",
       "    </tr>\n",
       "    <tr>\n",
       "      <th>15</th>\n",
       "      <td>1</td>\n",
       "      <td>35000</td>\n",
       "    </tr>\n",
       "    <tr>\n",
       "      <th>16</th>\n",
       "      <td>0</td>\n",
       "      <td>29000</td>\n",
       "    </tr>\n",
       "    <tr>\n",
       "      <th>17</th>\n",
       "      <td>0</td>\n",
       "      <td>57000</td>\n",
       "    </tr>\n",
       "    <tr>\n",
       "      <th>18</th>\n",
       "      <td>1</td>\n",
       "      <td>43000</td>\n",
       "    </tr>\n",
       "    <tr>\n",
       "      <th>19</th>\n",
       "      <td>0</td>\n",
       "      <td>56000</td>\n",
       "    </tr>\n",
       "    <tr>\n",
       "      <th>20</th>\n",
       "      <td>1</td>\n",
       "      <td>63000</td>\n",
       "    </tr>\n",
       "    <tr>\n",
       "      <th>21</th>\n",
       "      <td>1</td>\n",
       "      <td>32000</td>\n",
       "    </tr>\n",
       "    <tr>\n",
       "      <th>22</th>\n",
       "      <td>1</td>\n",
       "      <td>45000</td>\n",
       "    </tr>\n",
       "    <tr>\n",
       "      <th>23</th>\n",
       "      <td>1</td>\n",
       "      <td>89000</td>\n",
       "    </tr>\n",
       "    <tr>\n",
       "      <th>24</th>\n",
       "      <td>0</td>\n",
       "      <td>90000</td>\n",
       "    </tr>\n",
       "    <tr>\n",
       "      <th>25</th>\n",
       "      <td>0</td>\n",
       "      <td>93000</td>\n",
       "    </tr>\n",
       "    <tr>\n",
       "      <th>26</th>\n",
       "      <td>2</td>\n",
       "      <td>80000</td>\n",
       "    </tr>\n",
       "    <tr>\n",
       "      <th>27</th>\n",
       "      <td>2</td>\n",
       "      <td>87000</td>\n",
       "    </tr>\n",
       "    <tr>\n",
       "      <th>28</th>\n",
       "      <td>2</td>\n",
       "      <td>38000</td>\n",
       "    </tr>\n",
       "    <tr>\n",
       "      <th>29</th>\n",
       "      <td>2</td>\n",
       "      <td>23000</td>\n",
       "    </tr>\n",
       "    <tr>\n",
       "      <th>30</th>\n",
       "      <td>0</td>\n",
       "      <td>38900</td>\n",
       "    </tr>\n",
       "    <tr>\n",
       "      <th>31</th>\n",
       "      <td>0</td>\n",
       "      <td>53200</td>\n",
       "    </tr>\n",
       "    <tr>\n",
       "      <th>32</th>\n",
       "      <td>1</td>\n",
       "      <td>43800</td>\n",
       "    </tr>\n",
       "    <tr>\n",
       "      <th>33</th>\n",
       "      <td>0</td>\n",
       "      <td>25600</td>\n",
       "    </tr>\n",
       "    <tr>\n",
       "      <th>34</th>\n",
       "      <td>0</td>\n",
       "      <td>65400</td>\n",
       "    </tr>\n",
       "    <tr>\n",
       "      <th>35</th>\n",
       "      <td>1</td>\n",
       "      <td>76800</td>\n",
       "    </tr>\n",
       "    <tr>\n",
       "      <th>36</th>\n",
       "      <td>1</td>\n",
       "      <td>89700</td>\n",
       "    </tr>\n",
       "    <tr>\n",
       "      <th>37</th>\n",
       "      <td>1</td>\n",
       "      <td>41800</td>\n",
       "    </tr>\n",
       "    <tr>\n",
       "      <th>38</th>\n",
       "      <td>2</td>\n",
       "      <td>31900</td>\n",
       "    </tr>\n",
       "    <tr>\n",
       "      <th>39</th>\n",
       "      <td>1</td>\n",
       "      <td>25600</td>\n",
       "    </tr>\n",
       "    <tr>\n",
       "      <th>40</th>\n",
       "      <td>0</td>\n",
       "      <td>45700</td>\n",
       "    </tr>\n",
       "    <tr>\n",
       "      <th>41</th>\n",
       "      <td>1</td>\n",
       "      <td>35600</td>\n",
       "    </tr>\n",
       "    <tr>\n",
       "      <th>42</th>\n",
       "      <td>2</td>\n",
       "      <td>54300</td>\n",
       "    </tr>\n",
       "    <tr>\n",
       "      <th>43</th>\n",
       "      <td>0</td>\n",
       "      <td>65400</td>\n",
       "    </tr>\n",
       "    <tr>\n",
       "      <th>44</th>\n",
       "      <td>1</td>\n",
       "      <td>67800</td>\n",
       "    </tr>\n",
       "    <tr>\n",
       "      <th>45</th>\n",
       "      <td>1</td>\n",
       "      <td>24500</td>\n",
       "    </tr>\n",
       "    <tr>\n",
       "      <th>46</th>\n",
       "      <td>0</td>\n",
       "      <td>34900</td>\n",
       "    </tr>\n",
       "    <tr>\n",
       "      <th>47</th>\n",
       "      <td>1</td>\n",
       "      <td>45300</td>\n",
       "    </tr>\n",
       "    <tr>\n",
       "      <th>48</th>\n",
       "      <td>2</td>\n",
       "      <td>68400</td>\n",
       "    </tr>\n",
       "    <tr>\n",
       "      <th>49</th>\n",
       "      <td>0</td>\n",
       "      <td>51700</td>\n",
       "    </tr>\n",
       "  </tbody>\n",
       "</table>\n",
       "</div>"
      ],
      "text/plain": [
       "    Age  Income\n",
       "0     2   25000\n",
       "1     0   54000\n",
       "2     1   60000\n",
       "3     2   15000\n",
       "4     2   45000\n",
       "5     2   65000\n",
       "6     2   70000\n",
       "7     2   30000\n",
       "8     0   27000\n",
       "9     2   23000\n",
       "10    2   48000\n",
       "11    1   52000\n",
       "12    2   33000\n",
       "13    1   80000\n",
       "14    1   75000\n",
       "15    1   35000\n",
       "16    0   29000\n",
       "17    0   57000\n",
       "18    1   43000\n",
       "19    0   56000\n",
       "20    1   63000\n",
       "21    1   32000\n",
       "22    1   45000\n",
       "23    1   89000\n",
       "24    0   90000\n",
       "25    0   93000\n",
       "26    2   80000\n",
       "27    2   87000\n",
       "28    2   38000\n",
       "29    2   23000\n",
       "30    0   38900\n",
       "31    0   53200\n",
       "32    1   43800\n",
       "33    0   25600\n",
       "34    0   65400\n",
       "35    1   76800\n",
       "36    1   89700\n",
       "37    1   41800\n",
       "38    2   31900\n",
       "39    1   25600\n",
       "40    0   45700\n",
       "41    1   35600\n",
       "42    2   54300\n",
       "43    0   65400\n",
       "44    1   67800\n",
       "45    1   24500\n",
       "46    0   34900\n",
       "47    1   45300\n",
       "48    2   68400\n",
       "49    0   51700"
      ]
     },
     "execution_count": 54,
     "metadata": {},
     "output_type": "execute_result"
    }
   ],
   "source": [
    "from sklearn.preprocessing import LabelEncoder\n",
    "label_encoder = LabelEncoder()\n",
    "df['Age']= label_encoder.fit_transform(df['Age'])\n",
    "df['Age'].unique()\n",
    "df"
   ]
  },
  {
   "cell_type": "code",
   "execution_count": 55,
   "id": "31dfc4a3",
   "metadata": {},
   "outputs": [
    {
     "data": {
      "text/html": [
       "<div>\n",
       "<style scoped>\n",
       "    .dataframe tbody tr th:only-of-type {\n",
       "        vertical-align: middle;\n",
       "    }\n",
       "\n",
       "    .dataframe tbody tr th {\n",
       "        vertical-align: top;\n",
       "    }\n",
       "\n",
       "    .dataframe thead tr th {\n",
       "        text-align: left;\n",
       "    }\n",
       "\n",
       "    .dataframe thead tr:last-of-type th {\n",
       "        text-align: right;\n",
       "    }\n",
       "</style>\n",
       "<table border=\"1\" class=\"dataframe\">\n",
       "  <thead>\n",
       "    <tr>\n",
       "      <th></th>\n",
       "      <th colspan=\"8\" halign=\"left\">Income</th>\n",
       "    </tr>\n",
       "    <tr>\n",
       "      <th></th>\n",
       "      <th>count</th>\n",
       "      <th>mean</th>\n",
       "      <th>std</th>\n",
       "      <th>min</th>\n",
       "      <th>25%</th>\n",
       "      <th>50%</th>\n",
       "      <th>75%</th>\n",
       "      <th>max</th>\n",
       "    </tr>\n",
       "    <tr>\n",
       "      <th>Age</th>\n",
       "      <th></th>\n",
       "      <th></th>\n",
       "      <th></th>\n",
       "      <th></th>\n",
       "      <th></th>\n",
       "      <th></th>\n",
       "      <th></th>\n",
       "      <th></th>\n",
       "    </tr>\n",
       "  </thead>\n",
       "  <tbody>\n",
       "    <tr>\n",
       "      <th>0</th>\n",
       "      <td>15.0</td>\n",
       "      <td>52453.333333</td>\n",
       "      <td>20497.800114</td>\n",
       "      <td>25600.0</td>\n",
       "      <td>36900.0</td>\n",
       "      <td>53200.0</td>\n",
       "      <td>61200.0</td>\n",
       "      <td>93000.0</td>\n",
       "    </tr>\n",
       "    <tr>\n",
       "      <th>1</th>\n",
       "      <td>19.0</td>\n",
       "      <td>53942.105263</td>\n",
       "      <td>20868.165968</td>\n",
       "      <td>24500.0</td>\n",
       "      <td>38700.0</td>\n",
       "      <td>45300.0</td>\n",
       "      <td>71400.0</td>\n",
       "      <td>89700.0</td>\n",
       "    </tr>\n",
       "    <tr>\n",
       "      <th>2</th>\n",
       "      <td>16.0</td>\n",
       "      <td>46037.500000</td>\n",
       "      <td>22356.859499</td>\n",
       "      <td>15000.0</td>\n",
       "      <td>28750.0</td>\n",
       "      <td>41500.0</td>\n",
       "      <td>65850.0</td>\n",
       "      <td>87000.0</td>\n",
       "    </tr>\n",
       "  </tbody>\n",
       "</table>\n",
       "</div>"
      ],
      "text/plain": [
       "    Income                                                                  \\\n",
       "     count          mean           std      min      25%      50%      75%   \n",
       "Age                                                                          \n",
       "0     15.0  52453.333333  20497.800114  25600.0  36900.0  53200.0  61200.0   \n",
       "1     19.0  53942.105263  20868.165968  24500.0  38700.0  45300.0  71400.0   \n",
       "2     16.0  46037.500000  22356.859499  15000.0  28750.0  41500.0  65850.0   \n",
       "\n",
       "              \n",
       "         max  \n",
       "Age           \n",
       "0    93000.0  \n",
       "1    89700.0  \n",
       "2    87000.0  "
      ]
     },
     "execution_count": 55,
     "metadata": {},
     "output_type": "execute_result"
    }
   ],
   "source": [
    "age=df.groupby('Age',axis=0) \n",
    "age.describe()"
   ]
  },
  {
   "cell_type": "code",
   "execution_count": 56,
   "id": "99c7016c",
   "metadata": {},
   "outputs": [
    {
     "data": {
      "text/html": [
       "<div>\n",
       "<style scoped>\n",
       "    .dataframe tbody tr th:only-of-type {\n",
       "        vertical-align: middle;\n",
       "    }\n",
       "\n",
       "    .dataframe tbody tr th {\n",
       "        vertical-align: top;\n",
       "    }\n",
       "\n",
       "    .dataframe thead th {\n",
       "        text-align: right;\n",
       "    }\n",
       "</style>\n",
       "<table border=\"1\" class=\"dataframe\">\n",
       "  <thead>\n",
       "    <tr style=\"text-align: right;\">\n",
       "      <th></th>\n",
       "      <th>Income</th>\n",
       "    </tr>\n",
       "    <tr>\n",
       "      <th>Age</th>\n",
       "      <th></th>\n",
       "    </tr>\n",
       "  </thead>\n",
       "  <tbody>\n",
       "    <tr>\n",
       "      <th>0</th>\n",
       "      <td>52453.333333</td>\n",
       "    </tr>\n",
       "    <tr>\n",
       "      <th>1</th>\n",
       "      <td>53942.105263</td>\n",
       "    </tr>\n",
       "    <tr>\n",
       "      <th>2</th>\n",
       "      <td>46037.500000</td>\n",
       "    </tr>\n",
       "  </tbody>\n",
       "</table>\n",
       "</div>"
      ],
      "text/plain": [
       "           Income\n",
       "Age              \n",
       "0    52453.333333\n",
       "1    53942.105263\n",
       "2    46037.500000"
      ]
     },
     "execution_count": 56,
     "metadata": {},
     "output_type": "execute_result"
    }
   ],
   "source": [
    "age.mean()"
   ]
  },
  {
   "cell_type": "code",
   "execution_count": 57,
   "id": "15f3258a",
   "metadata": {},
   "outputs": [
    {
     "data": {
      "text/html": [
       "<div>\n",
       "<style scoped>\n",
       "    .dataframe tbody tr th:only-of-type {\n",
       "        vertical-align: middle;\n",
       "    }\n",
       "\n",
       "    .dataframe tbody tr th {\n",
       "        vertical-align: top;\n",
       "    }\n",
       "\n",
       "    .dataframe thead th {\n",
       "        text-align: right;\n",
       "    }\n",
       "</style>\n",
       "<table border=\"1\" class=\"dataframe\">\n",
       "  <thead>\n",
       "    <tr style=\"text-align: right;\">\n",
       "      <th></th>\n",
       "      <th>Income</th>\n",
       "    </tr>\n",
       "    <tr>\n",
       "      <th>Age</th>\n",
       "      <th></th>\n",
       "    </tr>\n",
       "  </thead>\n",
       "  <tbody>\n",
       "    <tr>\n",
       "      <th>0</th>\n",
       "      <td>53200.0</td>\n",
       "    </tr>\n",
       "    <tr>\n",
       "      <th>1</th>\n",
       "      <td>45300.0</td>\n",
       "    </tr>\n",
       "    <tr>\n",
       "      <th>2</th>\n",
       "      <td>41500.0</td>\n",
       "    </tr>\n",
       "  </tbody>\n",
       "</table>\n",
       "</div>"
      ],
      "text/plain": [
       "      Income\n",
       "Age         \n",
       "0    53200.0\n",
       "1    45300.0\n",
       "2    41500.0"
      ]
     },
     "execution_count": 57,
     "metadata": {},
     "output_type": "execute_result"
    }
   ],
   "source": [
    "age.median()"
   ]
  },
  {
   "cell_type": "code",
   "execution_count": 58,
   "id": "549c6443",
   "metadata": {},
   "outputs": [
    {
     "data": {
      "text/html": [
       "<div>\n",
       "<style scoped>\n",
       "    .dataframe tbody tr th:only-of-type {\n",
       "        vertical-align: middle;\n",
       "    }\n",
       "\n",
       "    .dataframe tbody tr th {\n",
       "        vertical-align: top;\n",
       "    }\n",
       "\n",
       "    .dataframe thead th {\n",
       "        text-align: right;\n",
       "    }\n",
       "</style>\n",
       "<table border=\"1\" class=\"dataframe\">\n",
       "  <thead>\n",
       "    <tr style=\"text-align: right;\">\n",
       "      <th></th>\n",
       "      <th>Income</th>\n",
       "    </tr>\n",
       "    <tr>\n",
       "      <th>Age</th>\n",
       "      <th></th>\n",
       "    </tr>\n",
       "  </thead>\n",
       "  <tbody>\n",
       "    <tr>\n",
       "      <th>0</th>\n",
       "      <td>25600</td>\n",
       "    </tr>\n",
       "    <tr>\n",
       "      <th>1</th>\n",
       "      <td>24500</td>\n",
       "    </tr>\n",
       "    <tr>\n",
       "      <th>2</th>\n",
       "      <td>15000</td>\n",
       "    </tr>\n",
       "  </tbody>\n",
       "</table>\n",
       "</div>"
      ],
      "text/plain": [
       "     Income\n",
       "Age        \n",
       "0     25600\n",
       "1     24500\n",
       "2     15000"
      ]
     },
     "execution_count": 58,
     "metadata": {},
     "output_type": "execute_result"
    }
   ],
   "source": [
    "age.min()"
   ]
  },
  {
   "cell_type": "code",
   "execution_count": 59,
   "id": "d90c677e",
   "metadata": {},
   "outputs": [
    {
     "data": {
      "text/html": [
       "<div>\n",
       "<style scoped>\n",
       "    .dataframe tbody tr th:only-of-type {\n",
       "        vertical-align: middle;\n",
       "    }\n",
       "\n",
       "    .dataframe tbody tr th {\n",
       "        vertical-align: top;\n",
       "    }\n",
       "\n",
       "    .dataframe thead th {\n",
       "        text-align: right;\n",
       "    }\n",
       "</style>\n",
       "<table border=\"1\" class=\"dataframe\">\n",
       "  <thead>\n",
       "    <tr style=\"text-align: right;\">\n",
       "      <th></th>\n",
       "      <th>Income</th>\n",
       "    </tr>\n",
       "    <tr>\n",
       "      <th>Age</th>\n",
       "      <th></th>\n",
       "    </tr>\n",
       "  </thead>\n",
       "  <tbody>\n",
       "    <tr>\n",
       "      <th>0</th>\n",
       "      <td>93000</td>\n",
       "    </tr>\n",
       "    <tr>\n",
       "      <th>1</th>\n",
       "      <td>89700</td>\n",
       "    </tr>\n",
       "    <tr>\n",
       "      <th>2</th>\n",
       "      <td>87000</td>\n",
       "    </tr>\n",
       "  </tbody>\n",
       "</table>\n",
       "</div>"
      ],
      "text/plain": [
       "     Income\n",
       "Age        \n",
       "0     93000\n",
       "1     89700\n",
       "2     87000"
      ]
     },
     "execution_count": 59,
     "metadata": {},
     "output_type": "execute_result"
    }
   ],
   "source": [
    "age.max()"
   ]
  },
  {
   "cell_type": "code",
   "execution_count": 60,
   "id": "c7a0c741",
   "metadata": {},
   "outputs": [
    {
     "data": {
      "text/html": [
       "<div>\n",
       "<style scoped>\n",
       "    .dataframe tbody tr th:only-of-type {\n",
       "        vertical-align: middle;\n",
       "    }\n",
       "\n",
       "    .dataframe tbody tr th {\n",
       "        vertical-align: top;\n",
       "    }\n",
       "\n",
       "    .dataframe thead th {\n",
       "        text-align: right;\n",
       "    }\n",
       "</style>\n",
       "<table border=\"1\" class=\"dataframe\">\n",
       "  <thead>\n",
       "    <tr style=\"text-align: right;\">\n",
       "      <th></th>\n",
       "      <th>Income</th>\n",
       "    </tr>\n",
       "    <tr>\n",
       "      <th>Age</th>\n",
       "      <th></th>\n",
       "    </tr>\n",
       "  </thead>\n",
       "  <tbody>\n",
       "    <tr>\n",
       "      <th>0</th>\n",
       "      <td>20497.800114</td>\n",
       "    </tr>\n",
       "    <tr>\n",
       "      <th>1</th>\n",
       "      <td>20868.165968</td>\n",
       "    </tr>\n",
       "    <tr>\n",
       "      <th>2</th>\n",
       "      <td>22356.859499</td>\n",
       "    </tr>\n",
       "  </tbody>\n",
       "</table>\n",
       "</div>"
      ],
      "text/plain": [
       "           Income\n",
       "Age              \n",
       "0    20497.800114\n",
       "1    20868.165968\n",
       "2    22356.859499"
      ]
     },
     "execution_count": 60,
     "metadata": {},
     "output_type": "execute_result"
    }
   ],
   "source": [
    "age.std()"
   ]
  }
 ],
 "metadata": {
  "kernelspec": {
   "display_name": "Python 3 (ipykernel)",
   "language": "python",
   "name": "python3"
  },
  "language_info": {
   "codemirror_mode": {
    "name": "ipython",
    "version": 3
   },
   "file_extension": ".py",
   "mimetype": "text/x-python",
   "name": "python",
   "nbconvert_exporter": "python",
   "pygments_lexer": "ipython3",
   "version": "3.9.12"
  }
 },
 "nbformat": 4,
 "nbformat_minor": 5
}
