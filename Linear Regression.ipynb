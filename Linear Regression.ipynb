{
 "cells": [
  {
   "cell_type": "raw",
   "id": "a122c927",
   "metadata": {},
   "source": [
    "Name     Meenu Pillai \n",
    "Roll No. TC28\n",
    "Linear Regression"
   ]
  },
  {
   "cell_type": "markdown",
   "id": "f1845914",
   "metadata": {},
   "source": [
    "Consider the Bangalore House Price Data. Perform following operations.\n",
    "a) Find and replace null values in the data using appropriate technique.\n",
    "b) Transform the ‘Size’ column to numerical values. For Example: 2 BHK to be converted as 2\n",
    "c) Transform the ‘total_sqft’ column to contain numerical values on same scale. If the range is given average value of the range to be taken.\n",
    "d) Calculate and add one more column as ‘Price_Per_Sqft’\n",
    "e) Remove the outliers from Price_Per_Sqft and BHK Size column if any.\n",
    "f) Apply the Linear Regression model to the data and display the training and testing performance measures as Mean Squared Error and Accuracy"
   ]
  },
  {
   "cell_type": "code",
   "execution_count": 1,
   "id": "6d3b877f",
   "metadata": {},
   "outputs": [],
   "source": [
    "import pandas as pd\n",
    "import numpy as np\n",
    "import matplotlib.pyplot as plt"
   ]
  },
  {
   "cell_type": "code",
   "execution_count": 2,
   "id": "d2168179",
   "metadata": {},
   "outputs": [],
   "source": [
    "df=pd.read_csv(\"Banglore Housing Prices.csv\")"
   ]
  },
  {
   "cell_type": "code",
   "execution_count": 3,
   "id": "624e6353",
   "metadata": {},
   "outputs": [
    {
     "data": {
      "text/html": [
       "<div>\n",
       "<style scoped>\n",
       "    .dataframe tbody tr th:only-of-type {\n",
       "        vertical-align: middle;\n",
       "    }\n",
       "\n",
       "    .dataframe tbody tr th {\n",
       "        vertical-align: top;\n",
       "    }\n",
       "\n",
       "    .dataframe thead th {\n",
       "        text-align: right;\n",
       "    }\n",
       "</style>\n",
       "<table border=\"1\" class=\"dataframe\">\n",
       "  <thead>\n",
       "    <tr style=\"text-align: right;\">\n",
       "      <th></th>\n",
       "      <th>location</th>\n",
       "      <th>size</th>\n",
       "      <th>total_sqft</th>\n",
       "      <th>bath</th>\n",
       "      <th>price</th>\n",
       "    </tr>\n",
       "  </thead>\n",
       "  <tbody>\n",
       "    <tr>\n",
       "      <th>0</th>\n",
       "      <td>Electronic City Phase II</td>\n",
       "      <td>2 BHK</td>\n",
       "      <td>1056</td>\n",
       "      <td>2.0</td>\n",
       "      <td>39.07</td>\n",
       "    </tr>\n",
       "    <tr>\n",
       "      <th>1</th>\n",
       "      <td>Chikka Tirupathi</td>\n",
       "      <td>4 Bedroom</td>\n",
       "      <td>2600</td>\n",
       "      <td>5.0</td>\n",
       "      <td>120.00</td>\n",
       "    </tr>\n",
       "    <tr>\n",
       "      <th>2</th>\n",
       "      <td>Uttarahalli</td>\n",
       "      <td>3 BHK</td>\n",
       "      <td>1440</td>\n",
       "      <td>2.0</td>\n",
       "      <td>62.00</td>\n",
       "    </tr>\n",
       "    <tr>\n",
       "      <th>3</th>\n",
       "      <td>Lingadheeranahalli</td>\n",
       "      <td>3 BHK</td>\n",
       "      <td>1521</td>\n",
       "      <td>3.0</td>\n",
       "      <td>95.00</td>\n",
       "    </tr>\n",
       "    <tr>\n",
       "      <th>4</th>\n",
       "      <td>Kothanur</td>\n",
       "      <td>2 BHK</td>\n",
       "      <td>1200</td>\n",
       "      <td>2.0</td>\n",
       "      <td>51.00</td>\n",
       "    </tr>\n",
       "    <tr>\n",
       "      <th>...</th>\n",
       "      <td>...</td>\n",
       "      <td>...</td>\n",
       "      <td>...</td>\n",
       "      <td>...</td>\n",
       "      <td>...</td>\n",
       "    </tr>\n",
       "    <tr>\n",
       "      <th>13315</th>\n",
       "      <td>Whitefield</td>\n",
       "      <td>5 Bedroom</td>\n",
       "      <td>3453</td>\n",
       "      <td>4.0</td>\n",
       "      <td>231.00</td>\n",
       "    </tr>\n",
       "    <tr>\n",
       "      <th>13316</th>\n",
       "      <td>Richards Town</td>\n",
       "      <td>4 BHK</td>\n",
       "      <td>3600</td>\n",
       "      <td>5.0</td>\n",
       "      <td>400.00</td>\n",
       "    </tr>\n",
       "    <tr>\n",
       "      <th>13317</th>\n",
       "      <td>Raja Rajeshwari Nagar</td>\n",
       "      <td>2 BHK</td>\n",
       "      <td>1141</td>\n",
       "      <td>2.0</td>\n",
       "      <td>60.00</td>\n",
       "    </tr>\n",
       "    <tr>\n",
       "      <th>13318</th>\n",
       "      <td>Padmanabhanagar</td>\n",
       "      <td>4 BHK</td>\n",
       "      <td>4689</td>\n",
       "      <td>4.0</td>\n",
       "      <td>488.00</td>\n",
       "    </tr>\n",
       "    <tr>\n",
       "      <th>13319</th>\n",
       "      <td>Doddathoguru</td>\n",
       "      <td>1 BHK</td>\n",
       "      <td>550</td>\n",
       "      <td>1.0</td>\n",
       "      <td>17.00</td>\n",
       "    </tr>\n",
       "  </tbody>\n",
       "</table>\n",
       "<p>13320 rows × 5 columns</p>\n",
       "</div>"
      ],
      "text/plain": [
       "                       location       size total_sqft  bath   price\n",
       "0      Electronic City Phase II      2 BHK       1056   2.0   39.07\n",
       "1              Chikka Tirupathi  4 Bedroom       2600   5.0  120.00\n",
       "2                   Uttarahalli      3 BHK       1440   2.0   62.00\n",
       "3            Lingadheeranahalli      3 BHK       1521   3.0   95.00\n",
       "4                      Kothanur      2 BHK       1200   2.0   51.00\n",
       "...                         ...        ...        ...   ...     ...\n",
       "13315                Whitefield  5 Bedroom       3453   4.0  231.00\n",
       "13316             Richards Town      4 BHK       3600   5.0  400.00\n",
       "13317     Raja Rajeshwari Nagar      2 BHK       1141   2.0   60.00\n",
       "13318           Padmanabhanagar      4 BHK       4689   4.0  488.00\n",
       "13319              Doddathoguru      1 BHK        550   1.0   17.00\n",
       "\n",
       "[13320 rows x 5 columns]"
      ]
     },
     "execution_count": 3,
     "metadata": {},
     "output_type": "execute_result"
    }
   ],
   "source": [
    "df"
   ]
  },
  {
   "cell_type": "code",
   "execution_count": 4,
   "id": "ebfc0232",
   "metadata": {},
   "outputs": [
    {
     "data": {
      "text/plain": [
       "(13320, 5)"
      ]
     },
     "execution_count": 4,
     "metadata": {},
     "output_type": "execute_result"
    }
   ],
   "source": [
    "df.shape"
   ]
  },
  {
   "cell_type": "code",
   "execution_count": 5,
   "id": "b36e21d7",
   "metadata": {},
   "outputs": [
    {
     "data": {
      "text/html": [
       "<div>\n",
       "<style scoped>\n",
       "    .dataframe tbody tr th:only-of-type {\n",
       "        vertical-align: middle;\n",
       "    }\n",
       "\n",
       "    .dataframe tbody tr th {\n",
       "        vertical-align: top;\n",
       "    }\n",
       "\n",
       "    .dataframe thead th {\n",
       "        text-align: right;\n",
       "    }\n",
       "</style>\n",
       "<table border=\"1\" class=\"dataframe\">\n",
       "  <thead>\n",
       "    <tr style=\"text-align: right;\">\n",
       "      <th></th>\n",
       "      <th>bath</th>\n",
       "      <th>price</th>\n",
       "    </tr>\n",
       "  </thead>\n",
       "  <tbody>\n",
       "    <tr>\n",
       "      <th>count</th>\n",
       "      <td>13247.000000</td>\n",
       "      <td>13320.000000</td>\n",
       "    </tr>\n",
       "    <tr>\n",
       "      <th>mean</th>\n",
       "      <td>2.692610</td>\n",
       "      <td>112.565627</td>\n",
       "    </tr>\n",
       "    <tr>\n",
       "      <th>std</th>\n",
       "      <td>1.341458</td>\n",
       "      <td>148.971674</td>\n",
       "    </tr>\n",
       "    <tr>\n",
       "      <th>min</th>\n",
       "      <td>1.000000</td>\n",
       "      <td>8.000000</td>\n",
       "    </tr>\n",
       "    <tr>\n",
       "      <th>25%</th>\n",
       "      <td>2.000000</td>\n",
       "      <td>50.000000</td>\n",
       "    </tr>\n",
       "    <tr>\n",
       "      <th>50%</th>\n",
       "      <td>2.000000</td>\n",
       "      <td>72.000000</td>\n",
       "    </tr>\n",
       "    <tr>\n",
       "      <th>75%</th>\n",
       "      <td>3.000000</td>\n",
       "      <td>120.000000</td>\n",
       "    </tr>\n",
       "    <tr>\n",
       "      <th>max</th>\n",
       "      <td>40.000000</td>\n",
       "      <td>3600.000000</td>\n",
       "    </tr>\n",
       "  </tbody>\n",
       "</table>\n",
       "</div>"
      ],
      "text/plain": [
       "               bath         price\n",
       "count  13247.000000  13320.000000\n",
       "mean       2.692610    112.565627\n",
       "std        1.341458    148.971674\n",
       "min        1.000000      8.000000\n",
       "25%        2.000000     50.000000\n",
       "50%        2.000000     72.000000\n",
       "75%        3.000000    120.000000\n",
       "max       40.000000   3600.000000"
      ]
     },
     "execution_count": 5,
     "metadata": {},
     "output_type": "execute_result"
    }
   ],
   "source": [
    "df.describe()"
   ]
  },
  {
   "cell_type": "markdown",
   "id": "0561a66e",
   "metadata": {},
   "source": [
    "### Find and replace null values in the data using appropriate technique."
   ]
  },
  {
   "cell_type": "code",
   "execution_count": 6,
   "id": "2d575809",
   "metadata": {},
   "outputs": [
    {
     "data": {
      "text/plain": [
       "location       1\n",
       "size          16\n",
       "total_sqft     0\n",
       "bath          73\n",
       "price          0\n",
       "dtype: int64"
      ]
     },
     "execution_count": 6,
     "metadata": {},
     "output_type": "execute_result"
    }
   ],
   "source": [
    "df.isnull().sum()"
   ]
  },
  {
   "cell_type": "code",
   "execution_count": 7,
   "id": "01dae849",
   "metadata": {},
   "outputs": [],
   "source": [
    "df.dropna(inplace=True)"
   ]
  },
  {
   "cell_type": "code",
   "execution_count": 8,
   "id": "9c5c5754",
   "metadata": {},
   "outputs": [
    {
     "data": {
      "text/plain": [
       "location      0\n",
       "size          0\n",
       "total_sqft    0\n",
       "bath          0\n",
       "price         0\n",
       "dtype: int64"
      ]
     },
     "execution_count": 8,
     "metadata": {},
     "output_type": "execute_result"
    }
   ],
   "source": [
    "df.isnull().sum()"
   ]
  },
  {
   "cell_type": "markdown",
   "id": "48f29e7e",
   "metadata": {},
   "source": [
    "### Transform the ‘Size’ column to numerical values. For Example: 2 BHK to be converted as 2"
   ]
  },
  {
   "cell_type": "code",
   "execution_count": 9,
   "id": "6d693a62",
   "metadata": {},
   "outputs": [
    {
     "data": {
      "text/plain": [
       "array(['2 BHK', '4 Bedroom', '3 BHK', '4 BHK', '6 Bedroom', '3 Bedroom',\n",
       "       '1 BHK', '1 RK', '1 Bedroom', '8 Bedroom', '2 Bedroom',\n",
       "       '7 Bedroom', '5 BHK', '7 BHK', '6 BHK', '5 Bedroom', '11 BHK',\n",
       "       '9 BHK', '9 Bedroom', '27 BHK', '10 Bedroom', '11 Bedroom',\n",
       "       '10 BHK', '19 BHK', '16 BHK', '43 Bedroom', '14 BHK', '8 BHK',\n",
       "       '12 Bedroom', '13 BHK', '18 Bedroom'], dtype=object)"
      ]
     },
     "execution_count": 9,
     "metadata": {},
     "output_type": "execute_result"
    }
   ],
   "source": [
    "df['size'].unique()"
   ]
  },
  {
   "cell_type": "code",
   "execution_count": 10,
   "id": "76156e5e",
   "metadata": {},
   "outputs": [],
   "source": [
    "df['size']=df['size'].apply(lambda x: int(x.split(' ')[0]))"
   ]
  },
  {
   "cell_type": "code",
   "execution_count": 11,
   "id": "addbd58f",
   "metadata": {},
   "outputs": [
    {
     "data": {
      "text/html": [
       "<div>\n",
       "<style scoped>\n",
       "    .dataframe tbody tr th:only-of-type {\n",
       "        vertical-align: middle;\n",
       "    }\n",
       "\n",
       "    .dataframe tbody tr th {\n",
       "        vertical-align: top;\n",
       "    }\n",
       "\n",
       "    .dataframe thead th {\n",
       "        text-align: right;\n",
       "    }\n",
       "</style>\n",
       "<table border=\"1\" class=\"dataframe\">\n",
       "  <thead>\n",
       "    <tr style=\"text-align: right;\">\n",
       "      <th></th>\n",
       "      <th>location</th>\n",
       "      <th>size</th>\n",
       "      <th>total_sqft</th>\n",
       "      <th>bath</th>\n",
       "      <th>price</th>\n",
       "    </tr>\n",
       "  </thead>\n",
       "  <tbody>\n",
       "    <tr>\n",
       "      <th>0</th>\n",
       "      <td>Electronic City Phase II</td>\n",
       "      <td>2</td>\n",
       "      <td>1056</td>\n",
       "      <td>2.0</td>\n",
       "      <td>39.07</td>\n",
       "    </tr>\n",
       "    <tr>\n",
       "      <th>1</th>\n",
       "      <td>Chikka Tirupathi</td>\n",
       "      <td>4</td>\n",
       "      <td>2600</td>\n",
       "      <td>5.0</td>\n",
       "      <td>120.00</td>\n",
       "    </tr>\n",
       "    <tr>\n",
       "      <th>2</th>\n",
       "      <td>Uttarahalli</td>\n",
       "      <td>3</td>\n",
       "      <td>1440</td>\n",
       "      <td>2.0</td>\n",
       "      <td>62.00</td>\n",
       "    </tr>\n",
       "    <tr>\n",
       "      <th>3</th>\n",
       "      <td>Lingadheeranahalli</td>\n",
       "      <td>3</td>\n",
       "      <td>1521</td>\n",
       "      <td>3.0</td>\n",
       "      <td>95.00</td>\n",
       "    </tr>\n",
       "    <tr>\n",
       "      <th>4</th>\n",
       "      <td>Kothanur</td>\n",
       "      <td>2</td>\n",
       "      <td>1200</td>\n",
       "      <td>2.0</td>\n",
       "      <td>51.00</td>\n",
       "    </tr>\n",
       "  </tbody>\n",
       "</table>\n",
       "</div>"
      ],
      "text/plain": [
       "                   location  size total_sqft  bath   price\n",
       "0  Electronic City Phase II     2       1056   2.0   39.07\n",
       "1          Chikka Tirupathi     4       2600   5.0  120.00\n",
       "2               Uttarahalli     3       1440   2.0   62.00\n",
       "3        Lingadheeranahalli     3       1521   3.0   95.00\n",
       "4                  Kothanur     2       1200   2.0   51.00"
      ]
     },
     "execution_count": 11,
     "metadata": {},
     "output_type": "execute_result"
    }
   ],
   "source": [
    "df.head()"
   ]
  },
  {
   "cell_type": "markdown",
   "id": "ce3ae5f1",
   "metadata": {},
   "source": [
    "### Transform the ‘total_sqft’ column to contain numerical values on same scale. If the range is given average value of the range to be taken."
   ]
  },
  {
   "cell_type": "code",
   "execution_count": 12,
   "id": "1ce99925",
   "metadata": {},
   "outputs": [],
   "source": [
    "def isfloat(x):\n",
    "    try:\n",
    "        float(x)\n",
    "    except:\n",
    "        return False\n",
    "    return True"
   ]
  },
  {
   "cell_type": "code",
   "execution_count": 13,
   "id": "10b74439",
   "metadata": {},
   "outputs": [
    {
     "data": {
      "text/html": [
       "<div>\n",
       "<style scoped>\n",
       "    .dataframe tbody tr th:only-of-type {\n",
       "        vertical-align: middle;\n",
       "    }\n",
       "\n",
       "    .dataframe tbody tr th {\n",
       "        vertical-align: top;\n",
       "    }\n",
       "\n",
       "    .dataframe thead th {\n",
       "        text-align: right;\n",
       "    }\n",
       "</style>\n",
       "<table border=\"1\" class=\"dataframe\">\n",
       "  <thead>\n",
       "    <tr style=\"text-align: right;\">\n",
       "      <th></th>\n",
       "      <th>location</th>\n",
       "      <th>size</th>\n",
       "      <th>total_sqft</th>\n",
       "      <th>bath</th>\n",
       "      <th>price</th>\n",
       "    </tr>\n",
       "  </thead>\n",
       "  <tbody>\n",
       "    <tr>\n",
       "      <th>30</th>\n",
       "      <td>Yelahanka</td>\n",
       "      <td>4</td>\n",
       "      <td>2100 - 2850</td>\n",
       "      <td>4.0</td>\n",
       "      <td>186.000</td>\n",
       "    </tr>\n",
       "    <tr>\n",
       "      <th>122</th>\n",
       "      <td>Hebbal</td>\n",
       "      <td>4</td>\n",
       "      <td>3067 - 8156</td>\n",
       "      <td>4.0</td>\n",
       "      <td>477.000</td>\n",
       "    </tr>\n",
       "    <tr>\n",
       "      <th>137</th>\n",
       "      <td>8th Phase JP Nagar</td>\n",
       "      <td>2</td>\n",
       "      <td>1042 - 1105</td>\n",
       "      <td>2.0</td>\n",
       "      <td>54.005</td>\n",
       "    </tr>\n",
       "    <tr>\n",
       "      <th>165</th>\n",
       "      <td>Sarjapur</td>\n",
       "      <td>2</td>\n",
       "      <td>1145 - 1340</td>\n",
       "      <td>2.0</td>\n",
       "      <td>43.490</td>\n",
       "    </tr>\n",
       "    <tr>\n",
       "      <th>188</th>\n",
       "      <td>KR Puram</td>\n",
       "      <td>2</td>\n",
       "      <td>1015 - 1540</td>\n",
       "      <td>2.0</td>\n",
       "      <td>56.800</td>\n",
       "    </tr>\n",
       "    <tr>\n",
       "      <th>410</th>\n",
       "      <td>Kengeri</td>\n",
       "      <td>1</td>\n",
       "      <td>34.46Sq. Meter</td>\n",
       "      <td>1.0</td>\n",
       "      <td>18.500</td>\n",
       "    </tr>\n",
       "    <tr>\n",
       "      <th>549</th>\n",
       "      <td>Hennur Road</td>\n",
       "      <td>2</td>\n",
       "      <td>1195 - 1440</td>\n",
       "      <td>2.0</td>\n",
       "      <td>63.770</td>\n",
       "    </tr>\n",
       "    <tr>\n",
       "      <th>648</th>\n",
       "      <td>Arekere</td>\n",
       "      <td>9</td>\n",
       "      <td>4125Perch</td>\n",
       "      <td>9.0</td>\n",
       "      <td>265.000</td>\n",
       "    </tr>\n",
       "    <tr>\n",
       "      <th>661</th>\n",
       "      <td>Yelahanka</td>\n",
       "      <td>2</td>\n",
       "      <td>1120 - 1145</td>\n",
       "      <td>2.0</td>\n",
       "      <td>48.130</td>\n",
       "    </tr>\n",
       "    <tr>\n",
       "      <th>672</th>\n",
       "      <td>Bettahalsoor</td>\n",
       "      <td>4</td>\n",
       "      <td>3090 - 5002</td>\n",
       "      <td>4.0</td>\n",
       "      <td>445.000</td>\n",
       "    </tr>\n",
       "  </tbody>\n",
       "</table>\n",
       "</div>"
      ],
      "text/plain": [
       "               location  size      total_sqft  bath    price\n",
       "30            Yelahanka     4     2100 - 2850   4.0  186.000\n",
       "122              Hebbal     4     3067 - 8156   4.0  477.000\n",
       "137  8th Phase JP Nagar     2     1042 - 1105   2.0   54.005\n",
       "165            Sarjapur     2     1145 - 1340   2.0   43.490\n",
       "188            KR Puram     2     1015 - 1540   2.0   56.800\n",
       "410             Kengeri     1  34.46Sq. Meter   1.0   18.500\n",
       "549         Hennur Road     2     1195 - 1440   2.0   63.770\n",
       "648             Arekere     9       4125Perch   9.0  265.000\n",
       "661           Yelahanka     2     1120 - 1145   2.0   48.130\n",
       "672        Bettahalsoor     4     3090 - 5002   4.0  445.000"
      ]
     },
     "execution_count": 13,
     "metadata": {},
     "output_type": "execute_result"
    }
   ],
   "source": [
    "df[~df['total_sqft'].apply(isfloat)].head(10)"
   ]
  },
  {
   "cell_type": "code",
   "execution_count": 14,
   "id": "bd9dbf35",
   "metadata": {},
   "outputs": [],
   "source": [
    "def catego(x):\n",
    "    u=x.split('-')\n",
    "    if len(u)== 2:\n",
    "        return(float(u[0])+float(u[1]))/2\n",
    "    try:\n",
    "        return float(x)\n",
    "    except:\n",
    "        return None\n",
    "            "
   ]
  },
  {
   "cell_type": "code",
   "execution_count": 15,
   "id": "5ed9ddcd",
   "metadata": {},
   "outputs": [],
   "source": [
    "df['total_sqft']=df['total_sqft'].apply(catego)"
   ]
  },
  {
   "cell_type": "code",
   "execution_count": 16,
   "id": "156027ef",
   "metadata": {},
   "outputs": [
    {
     "data": {
      "text/plain": [
       "location      Kengeri\n",
       "size                1\n",
       "total_sqft        NaN\n",
       "bath              1.0\n",
       "price            18.5\n",
       "Name: 410, dtype: object"
      ]
     },
     "execution_count": 16,
     "metadata": {},
     "output_type": "execute_result"
    }
   ],
   "source": [
    "df.loc[410]"
   ]
  },
  {
   "cell_type": "code",
   "execution_count": 17,
   "id": "1099b8f0",
   "metadata": {},
   "outputs": [],
   "source": [
    "df.dropna(inplace=True)"
   ]
  },
  {
   "cell_type": "code",
   "execution_count": 18,
   "id": "20968c0c",
   "metadata": {},
   "outputs": [
    {
     "data": {
      "text/plain": [
       "location      0\n",
       "size          0\n",
       "total_sqft    0\n",
       "bath          0\n",
       "price         0\n",
       "dtype: int64"
      ]
     },
     "execution_count": 18,
     "metadata": {},
     "output_type": "execute_result"
    }
   ],
   "source": [
    "df.isnull().sum()"
   ]
  },
  {
   "cell_type": "code",
   "execution_count": 19,
   "id": "c9095eb7",
   "metadata": {},
   "outputs": [],
   "source": [
    "from sklearn.preprocessing import StandardScaler"
   ]
  },
  {
   "cell_type": "code",
   "execution_count": 20,
   "id": "cdf7e731",
   "metadata": {},
   "outputs": [],
   "source": [
    "scale = df['total_sqft'].values.reshape(-1, 1)"
   ]
  },
  {
   "cell_type": "code",
   "execution_count": 21,
   "id": "f0fc238e",
   "metadata": {},
   "outputs": [],
   "source": [
    "scaler = StandardScaler()\n",
    "model = scaler.fit(scale)\n",
    "scaled_data = model.transform(scale)"
   ]
  },
  {
   "cell_type": "code",
   "execution_count": 22,
   "id": "858d9d9c",
   "metadata": {},
   "outputs": [
    {
     "data": {
      "text/plain": [
       "array([[-0.40354986],\n",
       "       [ 0.84435221],\n",
       "       [-0.09319079],\n",
       "       ...,\n",
       "       [-0.33485058],\n",
       "       [ 2.53273785],\n",
       "       [-0.81251258]])"
      ]
     },
     "execution_count": 22,
     "metadata": {},
     "output_type": "execute_result"
    }
   ],
   "source": [
    "scaled_data"
   ]
  },
  {
   "cell_type": "markdown",
   "id": "9f4793e5",
   "metadata": {},
   "source": [
    "### Calculate and add one more column as ‘Price_Per_Sqft’ "
   ]
  },
  {
   "cell_type": "code",
   "execution_count": 23,
   "id": "d5be2213",
   "metadata": {},
   "outputs": [
    {
     "data": {
      "text/html": [
       "<div>\n",
       "<style scoped>\n",
       "    .dataframe tbody tr th:only-of-type {\n",
       "        vertical-align: middle;\n",
       "    }\n",
       "\n",
       "    .dataframe tbody tr th {\n",
       "        vertical-align: top;\n",
       "    }\n",
       "\n",
       "    .dataframe thead th {\n",
       "        text-align: right;\n",
       "    }\n",
       "</style>\n",
       "<table border=\"1\" class=\"dataframe\">\n",
       "  <thead>\n",
       "    <tr style=\"text-align: right;\">\n",
       "      <th></th>\n",
       "      <th>location</th>\n",
       "      <th>size</th>\n",
       "      <th>total_sqft</th>\n",
       "      <th>bath</th>\n",
       "      <th>price</th>\n",
       "      <th>price_per_sqft</th>\n",
       "    </tr>\n",
       "  </thead>\n",
       "  <tbody>\n",
       "    <tr>\n",
       "      <th>0</th>\n",
       "      <td>Electronic City Phase II</td>\n",
       "      <td>2</td>\n",
       "      <td>1056.0</td>\n",
       "      <td>2.0</td>\n",
       "      <td>39.07</td>\n",
       "      <td>3699.810606</td>\n",
       "    </tr>\n",
       "    <tr>\n",
       "      <th>1</th>\n",
       "      <td>Chikka Tirupathi</td>\n",
       "      <td>4</td>\n",
       "      <td>2600.0</td>\n",
       "      <td>5.0</td>\n",
       "      <td>120.00</td>\n",
       "      <td>4615.384615</td>\n",
       "    </tr>\n",
       "    <tr>\n",
       "      <th>2</th>\n",
       "      <td>Uttarahalli</td>\n",
       "      <td>3</td>\n",
       "      <td>1440.0</td>\n",
       "      <td>2.0</td>\n",
       "      <td>62.00</td>\n",
       "      <td>4305.555556</td>\n",
       "    </tr>\n",
       "    <tr>\n",
       "      <th>3</th>\n",
       "      <td>Lingadheeranahalli</td>\n",
       "      <td>3</td>\n",
       "      <td>1521.0</td>\n",
       "      <td>3.0</td>\n",
       "      <td>95.00</td>\n",
       "      <td>6245.890861</td>\n",
       "    </tr>\n",
       "    <tr>\n",
       "      <th>4</th>\n",
       "      <td>Kothanur</td>\n",
       "      <td>2</td>\n",
       "      <td>1200.0</td>\n",
       "      <td>2.0</td>\n",
       "      <td>51.00</td>\n",
       "      <td>4250.000000</td>\n",
       "    </tr>\n",
       "  </tbody>\n",
       "</table>\n",
       "</div>"
      ],
      "text/plain": [
       "                   location  size  total_sqft  bath   price  price_per_sqft\n",
       "0  Electronic City Phase II     2      1056.0   2.0   39.07     3699.810606\n",
       "1          Chikka Tirupathi     4      2600.0   5.0  120.00     4615.384615\n",
       "2               Uttarahalli     3      1440.0   2.0   62.00     4305.555556\n",
       "3        Lingadheeranahalli     3      1521.0   3.0   95.00     6245.890861\n",
       "4                  Kothanur     2      1200.0   2.0   51.00     4250.000000"
      ]
     },
     "execution_count": 23,
     "metadata": {},
     "output_type": "execute_result"
    }
   ],
   "source": [
    "df['price_per_sqft'] = df['price']*100000 / df['total_sqft']  \n",
    "df.head()"
   ]
  },
  {
   "cell_type": "markdown",
   "id": "4187f77b",
   "metadata": {},
   "source": [
    "### Remove the outliers from Price_Per_Sqft and BHK Size column if any."
   ]
  },
  {
   "cell_type": "code",
   "execution_count": 24,
   "id": "bc788d5b",
   "metadata": {},
   "outputs": [],
   "source": [
    "import seaborn as sns"
   ]
  },
  {
   "cell_type": "code",
   "execution_count": 25,
   "id": "f29930d0",
   "metadata": {},
   "outputs": [
    {
     "data": {
      "text/plain": [
       "<AxesSubplot:xlabel='size'>"
      ]
     },
     "execution_count": 25,
     "metadata": {},
     "output_type": "execute_result"
    },
    {
     "data": {
      "image/png": "[encoded data removed]",
      "text/plain": [
       "<Figure size 432x288 with 1 Axes>"
      ]
     },
     "metadata": {
      "needs_background": "light"
     },
     "output_type": "display_data"
    }
   ],
   "source": [
    "sns.boxplot(x=df['size'])"
   ]
  },
  {
   "cell_type": "code",
   "execution_count": 26,
   "id": "f91d84c3",
   "metadata": {},
   "outputs": [
    {
     "name": "stdout",
     "output_type": "stream",
     "text": [
      "Outliers from IQR method:  [5, 5, 5, 5, 5, 5, 5, 5, 5, 5, 5, 5, 5, 5, 5, 5, 5, 5, 5, 5, 5, 5, 5, 5, 5, 5, 5, 5, 5, 5, 5, 5, 5, 5, 5, 5, 5, 5, 5, 5, 5, 5, 5, 5, 5, 5, 5, 5, 5, 5, 5, 5, 5, 5, 5, 5, 5, 5, 5, 5, 5, 5, 5, 5, 5, 5, 5, 5, 5, 5, 5, 5, 5, 5, 5, 5, 5, 5, 5, 5, 5, 5, 5, 5, 5, 5, 5, 5, 5, 5, 5, 5, 5, 5, 5, 5, 5, 5, 5, 5, 5, 5, 5, 5, 5, 5, 5, 5, 5, 5, 5, 5, 5, 5, 5, 5, 5, 5, 5, 5, 5, 5, 5, 5, 5, 5, 5, 5, 5, 5, 5, 5, 5, 5, 5, 5, 5, 5, 5, 5, 5, 5, 5, 5, 5, 5, 5, 5, 5, 5, 5, 5, 5, 5, 5, 5, 5, 5, 5, 5, 5, 5, 5, 5, 5, 5, 5, 5, 5, 5, 5, 5, 5, 5, 5, 5, 5, 5, 5, 5, 5, 5, 5, 5, 5, 5, 5, 5, 5, 5, 5, 5, 5, 5, 5, 5, 5, 5, 5, 5, 5, 5, 5, 5, 5, 5, 5, 5, 5, 5, 5, 5, 5, 5, 5, 5, 5, 5, 5, 5, 5, 5, 5, 5, 5, 5, 5, 5, 5, 5, 5, 5, 5, 5, 5, 5, 5, 5, 5, 5, 5, 5, 5, 5, 5, 5, 5, 5, 5, 5, 5, 5, 5, 5, 5, 5, 5, 5, 5, 5, 5, 5, 5, 5, 5, 5, 5, 5, 5, 5, 5, 5, 5, 5, 5, 5, 5, 5, 5, 5, 5, 5, 5, 5, 5, 5, 5, 5, 5, 5, 5, 5, 5, 5, 5, 5, 5, 5, 5, 5, 5, 5, 5, 5, 5, 5, 5, 5, 5, 5, 5, 5, 5, 5, 5, 5, 5, 5, 5, 5, 5, 5, 5, 5, 5, 5, 5, 5, 5, 5, 5, 5, 5, 5, 5, 5, 5, 5, 5, 5, 5, 5, 5, 5, 5, 5, 5, 5, 5, 6, 6, 6, 6, 6, 6, 6, 6, 6, 6, 6, 6, 6, 6, 6, 6, 6, 6, 6, 6, 6, 6, 6, 6, 6, 6, 6, 6, 6, 6, 6, 6, 6, 6, 6, 6, 6, 6, 6, 6, 6, 6, 6, 6, 6, 6, 6, 6, 6, 6, 6, 6, 6, 6, 6, 6, 6, 6, 6, 6, 6, 6, 6, 6, 6, 6, 6, 6, 6, 6, 6, 6, 6, 6, 6, 6, 6, 6, 6, 6, 6, 6, 6, 6, 6, 6, 6, 6, 6, 6, 6, 6, 6, 6, 6, 6, 6, 6, 6, 6, 6, 6, 6, 6, 6, 6, 6, 6, 6, 6, 6, 6, 6, 6, 6, 6, 6, 6, 6, 6, 6, 6, 6, 6, 6, 6, 6, 6, 6, 6, 6, 6, 6, 6, 6, 6, 6, 6, 6, 6, 6, 6, 6, 6, 6, 6, 6, 6, 6, 6, 6, 6, 6, 6, 6, 6, 6, 6, 6, 6, 6, 6, 6, 6, 6, 6, 6, 6, 6, 6, 6, 6, 6, 6, 6, 6, 6, 6, 6, 6, 6, 6, 6, 6, 6, 6, 6, 6, 6, 6, 6, 6, 6, 6, 6, 6, 6, 6, 6, 6, 6, 6, 6, 6, 6, 6, 6, 6, 6, 6, 6, 6, 6, 6, 6, 6, 6, 6, 6, 6, 7, 7, 7, 7, 7, 7, 7, 7, 7, 7, 7, 7, 7, 7, 7, 7, 7, 7, 7, 7, 7, 7, 7, 7, 7, 7, 7, 7, 7, 7, 7, 7, 7, 7, 7, 7, 7, 7, 7, 7, 7, 7, 7, 7, 7, 7, 7, 7, 7, 7, 7, 7, 7, 7, 7, 7, 7, 7, 7, 7, 7, 7, 7, 7, 7, 7, 7, 7, 7, 7, 7, 7, 7, 7, 7, 7, 7, 7, 7, 7, 7, 7, 7, 7, 7, 7, 7, 7, 7, 7, 7, 7, 7, 7, 7, 7, 7, 7, 7, 7, 8, 8, 8, 8, 8, 8, 8, 8, 8, 8, 8, 8, 8, 8, 8, 8, 8, 8, 8, 8, 8, 8, 8, 8, 8, 8, 8, 8, 8, 8, 8, 8, 8, 8, 8, 8, 8, 8, 8, 8, 8, 8, 8, 8, 8, 8, 8, 8, 8, 8, 8, 8, 8, 8, 8, 8, 8, 8, 8, 8, 8, 8, 8, 8, 8, 8, 8, 8, 8, 8, 8, 8, 8, 8, 8, 8, 8, 8, 8, 8, 8, 8, 8, 8, 8, 8, 8, 8, 9, 9, 9, 9, 9, 9, 9, 9, 9, 9, 9, 9, 9, 9, 9, 9, 9, 9, 9, 9, 9, 9, 9, 9, 9, 9, 9, 9, 9, 9, 9, 9, 9, 9, 9, 9, 9, 9, 9, 9, 9, 9, 9, 9, 9, 9, 9, 9, 9, 9, 9, 9, 10, 10, 10, 10, 10, 10, 10, 10, 10, 10, 10, 10, 10, 10, 11, 11, 11, 11, 12, 13, 14, 16, 18, 19, 27, 43]\n"
     ]
    }
   ],
   "source": [
    "outliers = []\n",
    "def detect_outliers_iqr(data):\n",
    "    data = sorted(data)\n",
    "    q1 = np.percentile(data, 25)\n",
    "    q3 = np.percentile(data, 75)\n",
    "    # print(q1, q3)\n",
    "    IQR = q3-q1\n",
    "    lwr_bound = q1-(1.5*IQR)\n",
    "    upr_bound = q3+(1.5*IQR)\n",
    "    # print(lwr_bound, upr_bound)\n",
    "    for i in data: \n",
    "        if (i<lwr_bound or i>upr_bound):\n",
    "            outliers.append(i)\n",
    "    return outliers\n",
    "marks_outliers = detect_outliers_iqr(df['size'])\n",
    "print(\"Outliers from IQR method: \", marks_outliers)"
   ]
  },
  {
   "cell_type": "code",
   "execution_count": 27,
   "id": "fd7aae96",
   "metadata": {},
   "outputs": [
    {
     "name": "stdout",
     "output_type": "stream",
     "text": [
      "2.0\n",
      "3.0\n",
      "1.0\n",
      "0.5 4.5\n"
     ]
    }
   ],
   "source": [
    "Q1=df['size'].quantile(0.25)\n",
    "Q3=df['size'].quantile(0.75)\n",
    "IQR=Q3-Q1\n",
    "print(Q1)\n",
    "print(Q3)\n",
    "print(IQR)\n",
    "Lower_Whisker = Q1-1.5*IQR\n",
    "Upper_Whisker = Q3+1.5*IQR\n",
    "print(Lower_Whisker, Upper_Whisker)"
   ]
  },
  {
   "cell_type": "code",
   "execution_count": 28,
   "id": "cb0ff013",
   "metadata": {},
   "outputs": [],
   "source": [
    "df = df[(df['size'] >= Lower_Whisker) & (df['size'] <= Upper_Whisker)]"
   ]
  },
  {
   "cell_type": "code",
   "execution_count": 29,
   "id": "15919a63",
   "metadata": {},
   "outputs": [
    {
     "data": {
      "text/plain": [
       "<AxesSubplot:xlabel='price_per_sqft'>"
      ]
     },
     "execution_count": 29,
     "metadata": {},
     "output_type": "execute_result"
    },
    {
     "data": {
      "image/png": "[encoded data removed]",
      "text/plain": [
       "<Figure size 432x288 with 1 Axes>"
      ]
     },
     "metadata": {
      "needs_background": "light"
     },
     "output_type": "display_data"
    }
   ],
   "source": [
    "sns.boxplot(x=df['price_per_sqft'])"
   ]
  },
  {
   "cell_type": "code",
   "execution_count": 30,
   "id": "07db50c5",
   "metadata": {},
   "outputs": [
    {
     "name": "stdout",
     "output_type": "stream",
     "text": [
      "Outliers from IQR method:  [11085.180863477246, 11111.111111111111, 11111.111111111111, 11111.111111111111, 11111.111111111111, 11111.111111111111, 11111.111111111111, 11111.111111111111, 11111.111111111111, 11111.111111111111, 11120.0, 11126.760563380281, 11145.165784341041, 11146.598530820824, 11153.846153846154, 11160.714285714286, 11162.179908076165, 11162.790697674418, 11162.790697674418, 11166.666666666666, 11171.574903969271, 11176.470588235294, 11200.0, 11200.0, 11206.896551724138, 11206.896551724138, 11206.896551724138, 11235.955056179775, 11247.80316344464, 11247.80316344464, 11250.0, 11250.0, 11250.0, 11250.0, 11250.0, 11250.0, 11250.0, 11250.0, 11250.0, 11250.0, 11250.0, 11266.666666666666, 11272.727272727272, 11285.714285714286, 11290.322580645161, 11308.562197092084, 11313.131313131313, 11314.186248912098, 11326.860841423948, 11333.333333333334, 11333.333333333334, 11333.333333333334, 11333.333333333334, 11333.333333333334, 11336.032388663967, 11337.209302325582, 11347.517730496455, 11358.671909130624, 11363.636363636364, 11363.636363636364, 11363.636363636364, 11363.636363636364, 11363.636363636364, 11363.636363636364, 11371.841155234657, 11372.549019607843, 11388.888888888889, 11392.405063291139, 11400.0, 11403.508771929824, 11403.508771929824, 11406.84410646388, 11406.980928391507, 11411.764705882353, 11424.219345011425, 11428.57142857143, 11428.57142857143, 11436.781609195403, 11437.908496732027, 11442.006269592477, 11454.448588172616, 11458.333333333334, 11458.333333333334, 11458.333333333334, 11467.88990825688, 11480.446927374302, 11494.252873563219, 11500.0, 11500.0, 11504.83202945237, 11515.151515151516, 11515.800749866095, 11528.150134048257, 11538.461538461539, 11538.461538461539, 11562.5, 11564.625850340137, 11574.074074074075, 11578.947368421053, 11587.982832618025, 11593.22033898305, 11593.22033898305, 11594.202898550724, 11639.824304538799, 11648.223645894, 11666.666666666666, 11666.666666666666, 11666.666666666666, 11666.666666666666, 11666.666666666666, 11666.666666666666, 11666.666666666666, 11666.666666666666, 11666.666666666666, 11666.666666666666, 11666.666666666666, 11666.666666666666, 11666.666666666666, 11666.666666666666, 11666.666666666666, 11666.666666666666, 11690.647482014389, 11695.906432748538, 11707.317073170732, 11718.75, 11724.137931034482, 11727.41679873217, 11733.333333333334, 11745.619727449708, 11747.085254471234, 11764.70588235294, 11764.70588235294, 11764.70588235294, 11777.777777777777, 11785.714285714286, 11785.714285714286, 11794.871794871795, 11805.555555555555, 11838.006230529594, 11851.851851851852, 11851.851851851852, 11856.474258970358, 11875.0, 11875.0, 11901.840490797545, 11901.840490797545, 11904.761904761905, 11904.761904761905, 11904.761904761905, 11928.335690711929, 11931.818181818182, 11937.5, 11948.790896159317, 11965.811965811965, 11970.074812967581, 11974.454497072911, 11983.805668016194, 11988.30409356725, 11995.386389850059, 11998.25479930192, 12000.0, 12000.0, 12000.0, 12000.0, 12000.0, 12000.0, 12000.0, 12000.0, 12000.0, 12000.0, 12000.0, 12000.0, 12000.0, 12000.0, 12000.0, 12000.0, 12000.0, 12000.0, 12009.685230024214, 12011.63757273483, 12028.469750889679, 12035.087719298246, 12038.52327447833, 12041.284403669724, 12051.28205128205, 12064.343163538873, 12083.333333333334, 12083.333333333334, 12083.333333333334, 12083.333333333334, 12091.503267973856, 12109.375, 12115.165336374002, 12116.316639741519, 12121.212121212122, 12121.212121212122, 12121.212121212122, 12121.212121212122, 12121.212121212122, 12121.212121212122, 12121.212121212122, 12121.212121212122, 12123.532414497193, 12127.659574468085, 12129.380053908355, 12142.857142857143, 12142.857142857143, 12142.857142857143, 12166.666666666666, 12173.91304347826, 12211.981566820277, 12215.90909090909, 12222.222222222223, 12222.222222222223, 12222.222222222223, 12222.222222222223, 12244.897959183674, 12254.901960784313, 12269.938650306749, 12280.701754385966, 12285.714285714286, 12295.081967213115, 12325.581395348838, 12328.339575530586, 12333.333333333334, 12333.333333333334, 12333.333333333334, 12352.941176470587, 12376.237623762376, 12408.759124087592, 12415.349887133183, 12415.349887133183, 12416.666666666666, 12416.666666666666, 12419.354838709678, 12431.44424131627, 12434.554973821989, 12463.920230910522, 12478.184991273996, 12494.651262302097, 12500.0, 12500.0, 12500.0, 12500.0, 12500.0, 12500.0, 12500.0, 12500.0, 12500.0, 12500.0, 12500.0, 12500.0, 12500.0, 12500.0, 12500.0, 12500.0, 12500.0, 12500.0, 12500.0, 12500.0, 12500.0, 12500.0, 12500.0, 12500.0, 12500.0, 12500.0, 12500.0, 12500.0, 12500.0, 12500.0, 12500.0, 12500.0, 12520.0, 12522.935779816513, 12527.472527472528, 12533.333333333334, 12533.333333333334, 12541.80602006689, 12587.412587412588, 12589.928057553956, 12608.695652173914, 12631.578947368422, 12666.666666666666, 12692.452121667293, 12698.412698412698, 12703.252032520326, 12707.781257528306, 12708.600770218229, 12719.298245614034, 12744.651797906236, 12765.95744680851, 12765.95744680851, 12777.777777777777, 12777.777777777777, 12777.777777777777, 12777.777777777777, 12777.777777777777, 12786.361214704315, 12790.697674418605, 12800.0, 12833.333333333334, 12833.333333333334, 12847.222222222223, 12857.142857142857, 12857.142857142857, 12857.142857142857, 12857.142857142857, 12857.142857142857, 12857.142857142857, 12857.142857142857, 12903.225806451614, 12906.16459155785, 12916.666666666666, 12916.666666666666, 12916.666666666666, 12929.29292929293, 12931.034482758621, 12949.039264828738, 12962.962962962964, 12962.962962962964, 12962.962962962964, 12962.962962962964, 12962.962962962964, 12980.209545983702, 12984.418697562924, 13000.0, 13000.0, 13000.0, 13000.0, 13000.0, 13000.0, 13000.0, 13000.0, 13000.0, 13020.833333333334, 13023.255813953489, 13030.30303030303, 13032.145960034752, 13035.714285714286, 13035.714285714286, 13036.164844407065, 13073.394495412844, 13073.394495412844, 13073.394495412844, 13076.923076923076, 13076.923076923076, 13104.166666666666, 13115.16362727954, 13129.689174705252, 13133.208255159474, 13142.857142857143, 13166.666666666666, 13170.731707317073, 13171.717171717171, 13171.717171717171, 13181.818181818182, 13194.444444444445, 13194.444444444445, 13210.56845476381, 13226.853007237334, 13306.451612903225, 13306.451612903225, 13333.333333333334, 13333.333333333334, 13333.333333333334, 13333.333333333334, 13333.333333333334, 13333.333333333334, 13333.333333333334, 13333.333333333334, 13333.333333333334, 13333.333333333334, 13333.333333333334, 13333.333333333334, 13333.333333333334, 13333.333333333334, 13333.333333333334, 13333.333333333334, 13333.333333333334, 13333.333333333334, 13333.333333333334, 13333.333333333334, 13333.333333333334, 13333.333333333334, 13333.333333333334, 13333.333333333334, 13357.079252003561, 13366.336633663366, 13374.944271065537, 13377.926421404682, 13383.242744333915, 13392.857142857143, 13392.857142857143, 13414.141414141413, 13414.634146341463, 13414.634146341463, 13414.634146341463, 13425.925925925925, 13469.387755102041, 13475.760065735414, 13495.27665317139, 13500.0, 13500.0, 13519.22264469793, 13533.333333333334, 13541.666666666666, 13541.666666666666, 13543.307086614173, 13544.018058690745, 13559.322033898305, 13564.273789649416, 13571.42857142857, 13571.42857142857, 13588.903548433324, 13597.560975609756, 13600.0, 13600.0, 13610.662358642972, 13613.159387407828, 13616.161616161617, 13636.363636363636, 13666.666666666666, 13684.21052631579, 13703.703703703704, 13708.333333333334, 13709.677419354839, 13722.221710580847, 13737.373737373737, 13750.0, 13750.0, 13750.0, 13750.0, 13750.0, 13750.0, 13750.0, 13750.0, 13750.0, 13750.0, 13750.0, 13779.527559055117, 13782.608695652174, 13796.296296296296, 13800.0, 13824.214202561117, 13833.333333333334, 13838.47549909256, 13884.555382215289, 13884.555382215289, 13884.555382215289, 13884.555382215289, 13888.888888888889, 13888.888888888889, 13888.888888888889, 13903.192584963954, 13914.893617021276, 13953.488372093023, 13963.414634146342, 13981.76291793313, 13995.48532731377, 13998.323554065382, 14000.0, 14000.0, 14000.0, 14000.0, 14000.0, 14000.0, 14000.0, 14000.0, 14000.0, 14000.0, 14000.0, 14000.0, 14024.390243902439, 14051.724137931034, 14083.333333333334, 14102.564102564103, 14112.123722728527, 14130.434782608696, 14166.666666666666, 14166.666666666666, 14166.666666666666, 14166.666666666666, 14166.666666666666, 14166.666666666666, 14166.666666666666, 14166.666666666666, 14166.666666666666, 14166.666666666666, 14166.666666666666, 14222.222222222223, 14227.642276422765, 14285.714285714286, 14285.714285714286, 14285.714285714286, 14285.714285714286, 14302.684723212164, 14333.333333333334, 14333.333333333334, 14343.762698090208, 14351.851851851852, 14352.941176470587, 14355.231143552312, 14364.17405999155, 14375.0, 14375.0, 14388.059701492537, 14393.939393939394, 14423.076923076924, 14444.444444444445, 14444.444444444445, 14444.444444444445, 14450.0, 14472.010178117049, 14500.0, 14500.0, 14516.129032258064, 14533.333333333334, 14534.883720930233, 14545.454545454546, 14551.804423748545, 14568.764568764569, 14573.991031390135, 14583.333333333334, 14583.333333333334, 14583.333333333334, 14583.333333333334, 14583.333333333334, 14583.333333333334, 14583.333333333334, 14583.333333333334, 14653.465346534653, 14666.666666666666, 14666.666666666666, 14666.666666666666, 14666.666666666666, 14666.666666666666, 14682.539682539682, 14687.882496940025, 14695.121951219513, 14705.882352941177, 14705.882352941177, 14734.774066797643, 14782.608695652174, 14799.154334038056, 14805.583250249252, 14814.814814814816, 14861.032331253546, 14898.419864559819, 14916.666666666666, 14916.666666666666, 14939.024390243903, 14939.39393939394, 14943.960149439601, 14981.2734082397, 15000.0, 15000.0, 15000.0, 15000.0, 15000.0, 15000.0, 15000.0, 15000.0, 15000.0, 15000.0, 15000.0, 15000.0, 15000.0, 15000.0, 15000.0, 15000.0, 15000.0, 15000.0, 15000.0, 15000.0, 15000.0, 15000.0, 15000.0, 15000.0, 15000.0, 15000.0, 15000.0, 15017.543859649122, 15018.181818181818, 15020.408163265307, 15028.57142857143, 15046.296296296296, 15090.90909090909, 15139.003578309937, 15151.515151515152, 15163.297045101088, 15263.157894736842, 15287.356321839081, 15304.347826086956, 15304.878048780487, 15333.333333333334, 15333.333333333334, 15333.333333333334, 15333.333333333334, 15358.361774744028, 15384.615384615385, 15384.615384615385, 15396.741986337362, 15416.666666666666, 15428.57142857143, 15477.214101461737, 15492.957746478873, 15512.465373961219, 15533.333333333334, 15555.555555555555, 15555.555555555555, 15564.853556485356, 15588.235294117647, 15600.0, 15600.624024960998, 15625.0, 15625.0, 15625.0, 15633.142261594581, 15659.955257270694, 15666.666666666666, 15666.666666666666, 15666.666666666666, 15714.285714285714, 15714.285714285714, 15740.74074074074, 15748.339194998047, 15750.0, 15789.473684210527, 15798.226164079822, 15808.491418247515, 15808.491418247515, 15825.2977878616, 15833.333333333334, 15833.333333333334, 15833.333333333334, 15833.333333333334, 15833.333333333334, 15833.333333333334, 15833.333333333334, 15833.333333333334, 15833.333333333334, 15833.333333333334, 15833.333333333334, 15833.333333333334, 15837.56345177665, 15842.839036755386, 15862.068965517241, 15873.015873015873, 15873.015873015873, 15909.09090909091, 15909.09090909091, 15933.333333333334, 15975.609756097561, 15992.64705882353, 15994.123640499492, 16000.0, 16000.0, 16000.0, 16000.0, 16000.0, 16000.0, 16000.0, 16000.0, 16006.9848661234, 16043.478260869566, 16071.42857142857, 16097.560975609756, 16111.111111111111, 16129.032258064517, 16140.350877192983, 16166.666666666666, 16199.376947040499, 16228.070175438597, 16240.706319702602, 16250.0, 16250.0, 16250.0, 16250.0, 16250.0, 16250.0, 16251.354279523293, 16304.347826086956, 16333.333333333334, 16339.869281045752, 16341.463414634147, 16379.310344827587, 16396.84516396845, 16437.139049311416, 16458.333333333332, 16491.22807017544, 16500.0, 16500.0, 16500.0, 16500.0, 16500.0, 16512.91512915129, 16521.739130434784, 16524.822695035462, 16528.92561983471, 16587.677725118483, 16606.49819494585, 16645.16129032258, 16666.666666666668, 16666.666666666668, 16666.666666666668, 16666.666666666668, 16666.666666666668, 16666.666666666668, 16666.666666666668, 16666.666666666668, 16666.666666666668, 16666.666666666668, 16666.666666666668, 16666.666666666668, 16666.666666666668, 16666.666666666668, 16666.666666666668, 16666.666666666668, 16666.666666666668, 16666.666666666668, 16666.666666666668, 16666.666666666668, 16666.666666666668, 16666.666666666668, 16666.666666666668, 16666.666666666668, 16666.666666666668, 16666.666666666668, 16666.666666666668, 16666.666666666668, 16666.666666666668, 16666.666666666668, 16666.666666666668, 16666.666666666668, 16666.666666666668, 16666.666666666668, 16666.666666666668, 16763.678696158324, 16778.523489932886, 16800.0, 16811.43177360605, 16831.68316831683, 16872.427983539095, 16875.0, 16875.0, 16883.116883116883, 16959.727736812252, 17000.0, 17000.0, 17000.0, 17008.196721311477, 17008.797653958944, 17021.27659574468, 17021.27659574468, 17037.037037037036, 17083.333333333332, 17083.333333333332, 17083.333333333332, 17121.21212121212, 17123.287671232876, 17142.85714285714, 17142.85714285714, 17154.81171548117, 17222.222222222223, 17263.310921315646, 17266.187050359713, 17282.637596383942, 17364.016736401674, 17395.833333333332, 17407.40740740741, 17418.032786885247, 17441.86046511628, 17482.915717539865, 17500.0, 17500.0, 17500.0, 17500.0, 17500.0, 17548.524328636002, 17582.417582417584, 17741.935483870966, 17759.562841530056, 17777.777777777777, 17777.777777777777, 17777.777777777777, 17777.777777777777, 17830.882352941175, 17855.002995805873, 17857.14285714286, 17857.14285714286, 17857.14285714286, 17857.14285714286, 17886.17886178862, 17916.666666666668, 17993.366500829186, 18000.0, 18000.0, 18000.0, 18000.0, 18095.238095238095, 18181.81818181818, 18181.81818181818, 18181.81818181818, 18250.0, 18333.333333333332, 18333.333333333332, 18333.333333333332, 18333.333333333332, 18333.333333333332, 18333.333333333332, 18333.333333333332, 18356.164383561645, 18387.09677419355, 18518.51851851852, 18518.51851851852, 18555.555555555555, 18727.272727272728, 18750.0, 18750.0, 18750.0, 18750.0, 18750.0, 18750.0, 18750.0, 18750.0, 18766.756032171583, 18833.333333333332, 18842.105263157893, 18863.636363636364, 18947.36842105263, 18973.91802808828, 19000.0, 19000.0, 19047.619047619046, 19061.58357771261, 19097.222222222223, 19118.773946360154, 19166.666666666668, 19166.666666666668, 19184.65227817746, 19375.0, 19393.939393939392, 19444.444444444445, 19444.444444444445, 19444.444444444445, 19444.444444444445, 19479.24823805795, 19513.314967860424, 19583.333333333332, 19583.333333333332, 19631.9018404908, 19634.703196347033, 19736.842105263157, 19858.156028368794, 19875.77639751553, 19940.47619047619, 19957.894736842107, 19965.277777777777, 20000.0, 20000.0, 20000.0, 20000.0, 20000.0, 20000.0, 20000.0, 20000.0, 20000.0, 20000.0, 20000.0, 20000.0, 20000.0, 20000.0, 20000.0, 20000.0, 20000.0, 20066.889632107024, 20115.384615384617, 20134.228187919463, 20250.0, 20266.666666666668, 20329.358319136853, 20333.333333333332, 20333.333333333332, 20357.14285714286, 20416.666666666668, 20416.666666666668, 20477.272727272728, 20645.16129032258, 20666.666666666668, 20740.74074074074, 20740.74074074074, 20833.333333333332, 20833.333333333332, 20833.333333333332, 20833.333333333332, 20833.333333333332, 20833.333333333332, 20833.333333333332, 20833.333333333332, 20833.333333333332, 20833.333333333332, 20833.333333333332, 21045.918367346938, 21052.63157894737, 21153.846153846152, 21250.0, 21428.571428571428, 21538.46153846154, 21538.46153846154, 21649.20022062879, 21731.936017650303, 21739.130434782608, 21875.0, 21875.0, 21875.0, 21903.32326283988, 21925.925925925927, 22000.0, 22025.602409638555, 22083.333333333332, 22296.774193548386, 22475.0, 22500.0, 22500.0, 22500.0, 22500.0, 22608.695652173912, 22648.87731858119, 22680.41237113402, 22857.14285714286, 22916.666666666668, 22916.666666666668, 22916.666666666668, 22962.962962962964, 23142.85714285714, 23148.14814814815, 23200.0, 23214.285714285714, 23368.10343896388, 23373.983739837397, 23404.10976167415, 23674.242424242424, 23719.165085388995, 24000.0, 24000.0, 24166.666666666668, 24583.333333333332, 24791.666666666668, 25000.0, 25000.0, 25000.0, 25000.0, 25000.0, 25000.0, 25000.0, 25185.185185185186, 25423.728813559323, 25466.101694915254, 25641.02564102564, 25743.037678446057, 26153.846153846152, 26246.719160104985, 26666.666666666668, 26973.684210526317, 27083.333333333332, 27083.333333333332, 27083.333333333332, 27083.333333333332, 27083.333333333332, 27083.333333333332, 27083.333333333332, 27083.333333333332, 27083.333333333332, 27083.333333333332, 27166.666666666668, 27272.727272727272, 27500.0, 27542.372881355932, 27777.777777777777, 27857.14285714286, 28148.14814814815, 28260.869565217392, 28333.333333333332, 28571.428571428572, 29126.21359223301, 29166.666666666668, 29166.666666666668, 29166.666666666668, 29166.666666666668, 29285.714285714286, 30000.0, 31250.0, 31250.0, 32291.666666666668, 32291.666666666668, 32352.941176470587, 34050.179211469534, 34290.90909090909, 34995.79377478668, 35042.419771302106, 35515.695067264576, 37500.0, 38888.88888888889, 43333.333333333336, 44000.0, 47619.04761904762, 47994.65240641711, 51111.11111111111, 52083.333333333336, 53150.0, 59770.11494252874, 76530.61224489796, 76923.07692307692, 176470.58823529413, 200000.0, 363333.3333333333, 672727.2727272727, 12000000.0]\n"
     ]
    }
   ],
   "source": [
    "outliers = []\n",
    "def detect_outliers_iqr(data):\n",
    "    data = sorted(data)\n",
    "    q1 = np.percentile(data, 25)\n",
    "    q3 = np.percentile(data, 75)\n",
    "    # print(q1, q3)\n",
    "    IQR = q3-q1\n",
    "    lwr_bound = q1-(1.5*IQR)\n",
    "    upr_bound = q3+(1.5*IQR)\n",
    "    # print(lwr_bound, upr_bound)\n",
    "    for i in data: \n",
    "        if (i<lwr_bound or i>upr_bound):\n",
    "            outliers.append(i)\n",
    "    return outliers\n",
    "marks_outliers = detect_outliers_iqr(df['price_per_sqft'])\n",
    "print(\"Outliers from IQR method: \", marks_outliers)"
   ]
  },
  {
   "cell_type": "code",
   "execution_count": 31,
   "id": "29db370d",
   "metadata": {},
   "outputs": [
    {
     "name": "stdout",
     "output_type": "stream",
     "text": [
      "4223.60248447205\n",
      "6958.52534562212\n",
      "2734.9228611500703\n",
      "121.21819274694371 11060.909637347226\n"
     ]
    }
   ],
   "source": [
    "Q1=df['price_per_sqft'].quantile(0.25)\n",
    "Q3=df['price_per_sqft'].quantile(0.75)\n",
    "IQR=Q3-Q1\n",
    "print(Q1)\n",
    "print(Q3)\n",
    "print(IQR)\n",
    "Lower_Whisker = Q1-1.5*IQR\n",
    "Upper_Whisker = Q3+1.5*IQR\n",
    "print(Lower_Whisker, Upper_Whisker)"
   ]
  },
  {
   "cell_type": "code",
   "execution_count": 32,
   "id": "428f01f4",
   "metadata": {},
   "outputs": [],
   "source": [
    "df = df[(df['price_per_sqft'] >= Lower_Whisker) & (df['price_per_sqft'] <= Upper_Whisker)]"
   ]
  },
  {
   "cell_type": "code",
   "execution_count": 33,
   "id": "7cd54ee9",
   "metadata": {},
   "outputs": [
    {
     "data": {
      "text/html": [
       "<div>\n",
       "<style scoped>\n",
       "    .dataframe tbody tr th:only-of-type {\n",
       "        vertical-align: middle;\n",
       "    }\n",
       "\n",
       "    .dataframe tbody tr th {\n",
       "        vertical-align: top;\n",
       "    }\n",
       "\n",
       "    .dataframe thead th {\n",
       "        text-align: right;\n",
       "    }\n",
       "</style>\n",
       "<table border=\"1\" class=\"dataframe\">\n",
       "  <thead>\n",
       "    <tr style=\"text-align: right;\">\n",
       "      <th></th>\n",
       "      <th>size</th>\n",
       "      <th>total_sqft</th>\n",
       "      <th>bath</th>\n",
       "      <th>price</th>\n",
       "      <th>price_per_sqft</th>\n",
       "    </tr>\n",
       "  </thead>\n",
       "  <tbody>\n",
       "    <tr>\n",
       "      <th>count</th>\n",
       "      <td>11347.000000</td>\n",
       "      <td>11347.000000</td>\n",
       "      <td>11347.000000</td>\n",
       "      <td>11347.000000</td>\n",
       "      <td>11347.000000</td>\n",
       "    </tr>\n",
       "    <tr>\n",
       "      <th>mean</th>\n",
       "      <td>2.501278</td>\n",
       "      <td>1461.435790</td>\n",
       "      <td>2.397109</td>\n",
       "      <td>82.658812</td>\n",
       "      <td>5436.421221</td>\n",
       "    </tr>\n",
       "    <tr>\n",
       "      <th>std</th>\n",
       "      <td>0.720181</td>\n",
       "      <td>1051.204649</td>\n",
       "      <td>0.818579</td>\n",
       "      <td>63.941723</td>\n",
       "      <td>1782.233439</td>\n",
       "    </tr>\n",
       "    <tr>\n",
       "      <th>min</th>\n",
       "      <td>1.000000</td>\n",
       "      <td>276.000000</td>\n",
       "      <td>1.000000</td>\n",
       "      <td>8.000000</td>\n",
       "      <td>267.829813</td>\n",
       "    </tr>\n",
       "    <tr>\n",
       "      <th>25%</th>\n",
       "      <td>2.000000</td>\n",
       "      <td>1100.000000</td>\n",
       "      <td>2.000000</td>\n",
       "      <td>47.000000</td>\n",
       "      <td>4132.221472</td>\n",
       "    </tr>\n",
       "    <tr>\n",
       "      <th>50%</th>\n",
       "      <td>2.000000</td>\n",
       "      <td>1260.000000</td>\n",
       "      <td>2.000000</td>\n",
       "      <td>65.000000</td>\n",
       "      <td>5114.503817</td>\n",
       "    </tr>\n",
       "    <tr>\n",
       "      <th>75%</th>\n",
       "      <td>3.000000</td>\n",
       "      <td>1600.000000</td>\n",
       "      <td>3.000000</td>\n",
       "      <td>95.000000</td>\n",
       "      <td>6439.209165</td>\n",
       "    </tr>\n",
       "    <tr>\n",
       "      <th>max</th>\n",
       "      <td>4.000000</td>\n",
       "      <td>52272.000000</td>\n",
       "      <td>8.000000</td>\n",
       "      <td>2100.000000</td>\n",
       "      <td>11041.207927</td>\n",
       "    </tr>\n",
       "  </tbody>\n",
       "</table>\n",
       "</div>"
      ],
      "text/plain": [
       "               size    total_sqft          bath         price  price_per_sqft\n",
       "count  11347.000000  11347.000000  11347.000000  11347.000000    11347.000000\n",
       "mean       2.501278   1461.435790      2.397109     82.658812     5436.421221\n",
       "std        0.720181   1051.204649      0.818579     63.941723     1782.233439\n",
       "min        1.000000    276.000000      1.000000      8.000000      267.829813\n",
       "25%        2.000000   1100.000000      2.000000     47.000000     4132.221472\n",
       "50%        2.000000   1260.000000      2.000000     65.000000     5114.503817\n",
       "75%        3.000000   1600.000000      3.000000     95.000000     6439.209165\n",
       "max        4.000000  52272.000000      8.000000   2100.000000    11041.207927"
      ]
     },
     "execution_count": 33,
     "metadata": {},
     "output_type": "execute_result"
    }
   ],
   "source": [
    "df.describe()"
   ]
  },
  {
   "cell_type": "markdown",
   "id": "886c7b01",
   "metadata": {},
   "source": [
    "### Linear Regression"
   ]
  },
  {
   "cell_type": "code",
   "execution_count": 34,
   "id": "80e4dc29",
   "metadata": {},
   "outputs": [
    {
     "data": {
      "text/plain": [
       "Index(['location', 'size', 'total_sqft', 'bath', 'price', 'price_per_sqft'], dtype='object')"
      ]
     },
     "execution_count": 34,
     "metadata": {},
     "output_type": "execute_result"
    }
   ],
   "source": [
    "df.columns"
   ]
  },
  {
   "cell_type": "code",
   "execution_count": 35,
   "id": "e7bd2275",
   "metadata": {},
   "outputs": [
    {
     "data": {
      "text/plain": [
       "<matplotlib.collections.PathCollection at 0x24e6cdcbf40>"
      ]
     },
     "execution_count": 35,
     "metadata": {},
     "output_type": "execute_result"
    },
    {
     "data": {
      "image/png": "[encoded data removed]",
      "text/plain": [
       "<Figure size 432x288 with 1 Axes>"
      ]
     },
     "metadata": {
      "needs_background": "light"
     },
     "output_type": "display_data"
    }
   ],
   "source": [
    "plt.scatter(df['total_sqft'], df['price'])"
   ]
  },
  {
   "cell_type": "code",
   "execution_count": 36,
   "id": "2b6cd6d2",
   "metadata": {},
   "outputs": [],
   "source": [
    "x=df['price']\n",
    "y=df['total_sqft']"
   ]
  },
  {
   "cell_type": "code",
   "execution_count": 37,
   "id": "cf8617cd",
   "metadata": {},
   "outputs": [],
   "source": [
    "from scipy import stats\n",
    "slope, intercept, r, p, std_err = stats.linregress(x, y)\n",
    "# This method returns key values of Linear Regression"
   ]
  },
  {
   "cell_type": "code",
   "execution_count": 38,
   "id": "f1a828a6",
   "metadata": {},
   "outputs": [],
   "source": [
    "def Linearfunc(x):\n",
    "      return slope * x + intercept\n",
    "\n",
    "mymodel = list(map(Linearfunc, x))\n"
   ]
  },
  {
   "cell_type": "code",
   "execution_count": 39,
   "id": "f6c594aa",
   "metadata": {},
   "outputs": [
    {
     "data": {
      "image/png": "[encoded data removed]",
      "text/plain": [
       "<Figure size 432x288 with 1 Axes>"
      ]
     },
     "metadata": {
      "needs_background": "light"
     },
     "output_type": "display_data"
    }
   ],
   "source": [
    "plt.scatter(x, y)\n",
    "plt.plot(x, mymodel)\n",
    "plt.show()"
   ]
  },
  {
   "cell_type": "code",
   "execution_count": 40,
   "id": "5ccb97ce",
   "metadata": {},
   "outputs": [
    {
     "name": "stdout",
     "output_type": "stream",
     "text": [
      "Training set Mean Squared Error: 825.62\n",
      "Testing set Mean Squared Error: 1444.78\n",
      "Training set Accuracy: 0.78\n",
      "Testing set Accuracy: 0.74\n"
     ]
    }
   ],
   "source": [
    "\n",
    "from sklearn.linear_model import LinearRegression\n",
    "from sklearn.model_selection import train_test_split\n",
    "from sklearn.metrics import mean_squared_error, r2_score\n",
    "\n",
    "X = df.drop(['location', 'price'], axis=1)\n",
    "y = df['price']\n",
    "X_train, X_test, y_train, y_test = train_test_split(X, y, test_size=0.2, random_state=42)\n",
    "\n",
    "# Train the Linear Regression model\n",
    "lr = LinearRegression()\n",
    "lr.fit(X_train, y_train)\n",
    "\n",
    "# Predict the prices on training and testing sets\n",
    "y_train_pred = lr.predict(X_train)\n",
    "y_test_pred = lr.predict(X_test)\n",
    "\n",
    "# Calculate Mean Squared Error on training and testing sets\n",
    "mse_train = mean_squared_error(y_train, y_train_pred)\n",
    "mse_test = mean_squared_error(y_test, y_test_pred)\n",
    "\n",
    "# Calculate Accuracy on training and testing sets\n",
    "r2_train = r2_score(y_train, y_train_pred)\n",
    "r2_test = r2_score(y_test, y_test_pred)\n",
    "\n",
    "# Display the performance measures\n",
    "print(\"Training set Mean Squared Error: {:.2f}\".format(mse_train))\n",
    "print(\"Testing set Mean Squared Error: {:.2f}\".format(mse_test))\n",
    "print(\"Training set Accuracy: {:.2f}\".format(r2_train))\n",
    "print(\"Testing set Accuracy: {:.2f}\".format(r2_test))"
   ]
  },
  {
   "cell_type": "code",
   "execution_count": 41,
   "id": "3e63cec0",
   "metadata": {
    "scrolled": true
   },
   "outputs": [
    {
     "data": {
      "text/plain": [
       "array([4.72446610e+00, 2.29143796e-02, 1.98256681e+01, 1.68110578e-02])"
      ]
     },
     "execution_count": 41,
     "metadata": {},
     "output_type": "execute_result"
    }
   ],
   "source": [
    "lr.coef_"
   ]
  },
  {
   "cell_type": "code",
   "execution_count": 42,
   "id": "a9605485",
   "metadata": {},
   "outputs": [
    {
     "data": {
      "text/plain": [
       "-101.64654522608849"
      ]
     },
     "execution_count": 42,
     "metadata": {},
     "output_type": "execute_result"
    }
   ],
   "source": [
    "lr.intercept_"
   ]
  },
  {
   "cell_type": "code",
   "execution_count": 43,
   "id": "7404931d",
   "metadata": {},
   "outputs": [
    {
     "name": "stderr",
     "output_type": "stream",
     "text": [
      "C:\\Users\\meenu\\anaconda32\\lib\\site-packages\\sklearn\\base.py:450: UserWarning: X does not have valid feature names, but LinearRegression was fitted with feature names\n",
      "  warnings.warn(\n"
     ]
    },
    {
     "data": {
      "text/plain": [
       "array([33.84903814])"
      ]
     },
     "execution_count": 43,
     "metadata": {},
     "output_type": "execute_result"
    }
   ],
   "source": [
    "lr.predict([[2,1056,2.0,3699.8106]])"
   ]
  }
 ],
 "metadata": {
  "kernelspec": {
   "display_name": "Python 3 (ipykernel)",
   "language": "python",
   "name": "python3"
  },
  "language_info": {
   "codemirror_mode": {
    "name": "ipython",
    "version": 3
   },
   "file_extension": ".py",
   "mimetype": "text/x-python",
   "name": "python",
   "nbconvert_exporter": "python",
   "pygments_lexer": "ipython3",
   "version": "3.9.12"
  }
 },
 "nbformat": 4,
 "nbformat_minor": 5
}
